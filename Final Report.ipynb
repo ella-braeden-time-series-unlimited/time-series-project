{
 "cells": [
  {
   "cell_type": "code",
   "execution_count": 2,
   "id": "c6593341",
   "metadata": {},
   "outputs": [],
   "source": [
    "import os\n",
    "import pandas as pd\n",
    "import env\n",
    "import matplotlib.pyplot as plt\n",
    "import seaborn as sns\n",
    "import wrangle\n",
    "\n",
    "import numpy as np\n",
    "import pandas as pd\n",
    "\n",
    "from sklearn.model_selection import train_test_split\n",
    "from sklearn.impute import SimpleImputer\n",
    "\n",
    "from env import user, password, host\n",
    "database_url_base = f'mysql+pymysql://{env.user}:{env.password}@{env.host}/'"
   ]
  },
  {
   "cell_type": "markdown",
   "id": "fd930619",
   "metadata": {},
   "source": [
    "# What should we market?\n",
    "Ella Xu | Braeden Wright   "
   ]
  },
  {
   "cell_type": "markdown",
   "id": "ff0b5e4f",
   "metadata": {},
   "source": [
    "# Project Goal"
   ]
  },
  {
   "cell_type": "markdown",
   "id": "46232699",
   "metadata": {},
   "source": [
    "### We are coming off of the worst end of year profits that we've had in four years, and are looking for a way to bounce back and finish the fiscal year strong.  With access to our previous data our goal is to review our past orders to determine what trends are present that we may wish to capitalize on, or possibly what opportunities we may be missing out on. \n",
    "\n",
    "### We will utilize three P's of marketing that are key indicators of a quality service. They are the product, price, and promotion of a good or service. With our data analysis, we will keep these in mind to determine what Product to market, what Prices best benefit the company, and what Promotion we may want to offer to improve our business going forward."
   ]
  },
  {
   "cell_type": "markdown",
   "id": "0cc3d001",
   "metadata": {},
   "source": [
    "# Planning\n",
    "* Setup repository environment (.gitignore, README.md)\n",
    "* Import and test wrangle functions(aquire).\n",
    "* Clean superstore data from Codeup mySQL database via wrangle.py(preperation)\n",
    "* Explore data for trends and correlations amoung features(exploration)\n",
    "* Ask and answer questions about the superstore data.(exploration)\n",
    "* Visually represent findings with charts. (modeling/delivery)\n",
    "* Report conclusions and next steps in a presentation.(delivering)\n",
    "\n",
    "\n",
    "# Executive Summary\n"
   ]
  },
  {
   "cell_type": "code",
   "execution_count": null,
   "id": "071bf6ef",
   "metadata": {},
   "outputs": [],
   "source": []
  },
  {
   "cell_type": "markdown",
   "id": "64b09600",
   "metadata": {},
   "source": [
    "# Acquire the data"
   ]
  },
  {
   "cell_type": "markdown",
   "id": "eaea4686",
   "metadata": {},
   "source": [
    "To acquire the superstore data, we built a function to pull the superstore_db using a SQL query."
   ]
  },
  {
   "cell_type": "code",
   "execution_count": 4,
   "id": "6ed48e7d",
   "metadata": {},
   "outputs": [
    {
     "name": "stdout",
     "output_type": "stream",
     "text": [
      "Downloading data from SQL...\n",
      "Saving to .csv\n"
     ]
    },
    {
     "data": {
      "text/html": [
       "<div>\n",
       "<style scoped>\n",
       "    .dataframe tbody tr th:only-of-type {\n",
       "        vertical-align: middle;\n",
       "    }\n",
       "\n",
       "    .dataframe tbody tr th {\n",
       "        vertical-align: top;\n",
       "    }\n",
       "\n",
       "    .dataframe thead th {\n",
       "        text-align: right;\n",
       "    }\n",
       "</style>\n",
       "<table border=\"1\" class=\"dataframe\">\n",
       "  <thead>\n",
       "    <tr style=\"text-align: right;\">\n",
       "      <th></th>\n",
       "      <th>order_id</th>\n",
       "      <th>ship_date</th>\n",
       "      <th>shipping_method</th>\n",
       "      <th>customer_id</th>\n",
       "      <th>segment</th>\n",
       "      <th>country</th>\n",
       "      <th>city</th>\n",
       "      <th>state</th>\n",
       "      <th>zip_code</th>\n",
       "      <th>product id</th>\n",
       "      <th>...</th>\n",
       "      <th>discount</th>\n",
       "      <th>profit</th>\n",
       "      <th>category_id</th>\n",
       "      <th>region_id</th>\n",
       "      <th>product name</th>\n",
       "      <th>category</th>\n",
       "      <th>sub_category</th>\n",
       "      <th>region_name</th>\n",
       "      <th>year</th>\n",
       "      <th>month</th>\n",
       "    </tr>\n",
       "    <tr>\n",
       "      <th>order_date</th>\n",
       "      <th></th>\n",
       "      <th></th>\n",
       "      <th></th>\n",
       "      <th></th>\n",
       "      <th></th>\n",
       "      <th></th>\n",
       "      <th></th>\n",
       "      <th></th>\n",
       "      <th></th>\n",
       "      <th></th>\n",
       "      <th></th>\n",
       "      <th></th>\n",
       "      <th></th>\n",
       "      <th></th>\n",
       "      <th></th>\n",
       "      <th></th>\n",
       "      <th></th>\n",
       "      <th></th>\n",
       "      <th></th>\n",
       "      <th></th>\n",
       "      <th></th>\n",
       "    </tr>\n",
       "  </thead>\n",
       "  <tbody>\n",
       "    <tr>\n",
       "      <th>2014-01-04</th>\n",
       "      <td>CA-2014-112326</td>\n",
       "      <td>2014-01-08</td>\n",
       "      <td>Standard Class</td>\n",
       "      <td>PO-19195</td>\n",
       "      <td>Home Office</td>\n",
       "      <td>United States</td>\n",
       "      <td>Naperville</td>\n",
       "      <td>Illinois</td>\n",
       "      <td>60540.0</td>\n",
       "      <td>OFF-LA-10003223</td>\n",
       "      <td>...</td>\n",
       "      <td>0.2</td>\n",
       "      <td>4.2717</td>\n",
       "      <td>3</td>\n",
       "      <td>3</td>\n",
       "      <td>Avery 508</td>\n",
       "      <td>Office Supplies</td>\n",
       "      <td>Labels</td>\n",
       "      <td>Central</td>\n",
       "      <td>2014</td>\n",
       "      <td>1</td>\n",
       "    </tr>\n",
       "    <tr>\n",
       "      <th>2014-01-04</th>\n",
       "      <td>CA-2014-112326</td>\n",
       "      <td>2014-01-08</td>\n",
       "      <td>Standard Class</td>\n",
       "      <td>PO-19195</td>\n",
       "      <td>Home Office</td>\n",
       "      <td>United States</td>\n",
       "      <td>Naperville</td>\n",
       "      <td>Illinois</td>\n",
       "      <td>60540.0</td>\n",
       "      <td>OFF-BI-10004094</td>\n",
       "      <td>...</td>\n",
       "      <td>0.8</td>\n",
       "      <td>-5.4870</td>\n",
       "      <td>9</td>\n",
       "      <td>3</td>\n",
       "      <td>GBC Standard Plastic Binding Systems Combs</td>\n",
       "      <td>Office Supplies</td>\n",
       "      <td>Binders</td>\n",
       "      <td>Central</td>\n",
       "      <td>2014</td>\n",
       "      <td>1</td>\n",
       "    </tr>\n",
       "    <tr>\n",
       "      <th>2014-01-04</th>\n",
       "      <td>CA-2014-112326</td>\n",
       "      <td>2014-01-08</td>\n",
       "      <td>Standard Class</td>\n",
       "      <td>PO-19195</td>\n",
       "      <td>Home Office</td>\n",
       "      <td>United States</td>\n",
       "      <td>Naperville</td>\n",
       "      <td>Illinois</td>\n",
       "      <td>60540.0</td>\n",
       "      <td>OFF-ST-10002743</td>\n",
       "      <td>...</td>\n",
       "      <td>0.2</td>\n",
       "      <td>-64.7748</td>\n",
       "      <td>5</td>\n",
       "      <td>3</td>\n",
       "      <td>SAFCO Boltless Steel Shelving</td>\n",
       "      <td>Office Supplies</td>\n",
       "      <td>Storage</td>\n",
       "      <td>Central</td>\n",
       "      <td>2014</td>\n",
       "      <td>1</td>\n",
       "    </tr>\n",
       "  </tbody>\n",
       "</table>\n",
       "<p>3 rows × 22 columns</p>\n",
       "</div>"
      ],
      "text/plain": [
       "                  order_id   ship_date shipping_method customer_id  \\\n",
       "order_date                                                           \n",
       "2014-01-04  CA-2014-112326  2014-01-08  Standard Class    PO-19195   \n",
       "2014-01-04  CA-2014-112326  2014-01-08  Standard Class    PO-19195   \n",
       "2014-01-04  CA-2014-112326  2014-01-08  Standard Class    PO-19195   \n",
       "\n",
       "                segment        country        city     state  zip_code  \\\n",
       "order_date                                                               \n",
       "2014-01-04  Home Office  United States  Naperville  Illinois   60540.0   \n",
       "2014-01-04  Home Office  United States  Naperville  Illinois   60540.0   \n",
       "2014-01-04  Home Office  United States  Naperville  Illinois   60540.0   \n",
       "\n",
       "                 product id  ...  discount   profit  category_id  region_id  \\\n",
       "order_date                   ...                                              \n",
       "2014-01-04  OFF-LA-10003223  ...       0.2   4.2717            3          3   \n",
       "2014-01-04  OFF-BI-10004094  ...       0.8  -5.4870            9          3   \n",
       "2014-01-04  OFF-ST-10002743  ...       0.2 -64.7748            5          3   \n",
       "\n",
       "                                          product name         category  \\\n",
       "order_date                                                                \n",
       "2014-01-04                                   Avery 508  Office Supplies   \n",
       "2014-01-04  GBC Standard Plastic Binding Systems Combs  Office Supplies   \n",
       "2014-01-04               SAFCO Boltless Steel Shelving  Office Supplies   \n",
       "\n",
       "           sub_category region_name  year month  \n",
       "order_date                                       \n",
       "2014-01-04       Labels     Central  2014     1  \n",
       "2014-01-04      Binders     Central  2014     1  \n",
       "2014-01-04      Storage     Central  2014     1  \n",
       "\n",
       "[3 rows x 22 columns]"
      ]
     },
     "execution_count": 4,
     "metadata": {},
     "output_type": "execute_result"
    }
   ],
   "source": [
    "df= wrangle.wrangle_superstore()\n",
    "df.head(3)"
   ]
  },
  {
   "cell_type": "markdown",
   "id": "6cc33aca",
   "metadata": {},
   "source": [
    "# Data Wrangle"
   ]
  },
  {
   "cell_type": "markdown",
   "id": "45e8cfe0",
   "metadata": {},
   "source": [
    "* Rename the columns to make it easy to read and code with.\n",
    "                'Order ID': 'order_id',\n",
    "                    'Order Date': 'order_date',\n",
    "                    'Ship Date': 'ship_date',\n",
    "                    'Customer ID': 'customer_id',\n",
    "                    'Postal Code': 'zip_code',\n",
    "                    'Category ID': 'category_id',\n",
    "                    'Region ID': 'region_id',\n",
    "                    'Region Name': 'region_name',\n",
    "                    'Ship Mode': 'shipping_method',\n",
    "                    'Sub-Category': 'sub_category'. \n",
    "                    \n",
    "* convert the columns name to lower case. \n",
    "* convert the order_date to datetime datatype. \n",
    "* Added year as a column. \n",
    "* Added month as column. \n",
    "* Set order_date to index. \n",
    "* Download cleaned data to a .csv"
   ]
  },
  {
   "cell_type": "markdown",
   "id": "010d5be8",
   "metadata": {},
   "source": [
    "# Data Exploration "
   ]
  },
  {
   "cell_type": "markdown",
   "id": "05264f6a",
   "metadata": {},
   "source": [
    "## Initial Questions\n",
    "* How much did the store make and sell between 2014 and 2017?\n",
    "\n",
    "* How was 2017 performance compared to previous years?\n",
    "\n",
    "* Which was the most profitable category? Sub-Category?\n",
    "\n",
    "* Overall Q4 Sales for the past three years? \n",
    "\n",
    "* What's the discount distribution and where are those discount being applied?\n",
    "\n",
    "* What value can we add for customers that is marketable without hurting profits?\n"
   ]
  },
  {
   "cell_type": "markdown",
   "id": "129996b7",
   "metadata": {},
   "source": [
    "## How much did the store make and sell between 2014 and 2017?"
   ]
  },
  {
   "cell_type": "code",
   "execution_count": 14,
   "id": "185a6944",
   "metadata": {},
   "outputs": [
    {
     "data": {
      "text/html": [
       "<div>\n",
       "<style scoped>\n",
       "    .dataframe tbody tr th:only-of-type {\n",
       "        vertical-align: middle;\n",
       "    }\n",
       "\n",
       "    .dataframe tbody tr th {\n",
       "        vertical-align: top;\n",
       "    }\n",
       "\n",
       "    .dataframe thead th {\n",
       "        text-align: right;\n",
       "    }\n",
       "</style>\n",
       "<table border=\"1\" class=\"dataframe\">\n",
       "  <thead>\n",
       "    <tr style=\"text-align: right;\">\n",
       "      <th></th>\n",
       "      <th>profit</th>\n",
       "      <th>sales</th>\n",
       "    </tr>\n",
       "    <tr>\n",
       "      <th>year</th>\n",
       "      <th></th>\n",
       "      <th></th>\n",
       "    </tr>\n",
       "  </thead>\n",
       "  <tbody>\n",
       "    <tr>\n",
       "      <th>2014</th>\n",
       "      <td>10041.2325</td>\n",
       "      <td>101075.5685</td>\n",
       "    </tr>\n",
       "    <tr>\n",
       "      <th>2015</th>\n",
       "      <td>10006.7669</td>\n",
       "      <td>92552.7542</td>\n",
       "    </tr>\n",
       "    <tr>\n",
       "      <th>2016</th>\n",
       "      <td>11225.3949</td>\n",
       "      <td>106836.2096</td>\n",
       "    </tr>\n",
       "    <tr>\n",
       "      <th>2017</th>\n",
       "      <td>6667.1350</td>\n",
       "      <td>96979.2931</td>\n",
       "    </tr>\n",
       "  </tbody>\n",
       "</table>\n",
       "</div>"
      ],
      "text/plain": [
       "          profit        sales\n",
       "year                         \n",
       "2014  10041.2325  101075.5685\n",
       "2015  10006.7669   92552.7542\n",
       "2016  11225.3949  106836.2096\n",
       "2017   6667.1350   96979.2931"
      ]
     },
     "execution_count": 14,
     "metadata": {},
     "output_type": "execute_result"
    }
   ],
   "source": [
    "#creating a pivot table to sum the sales and profit for each year. \n",
    "year_profit_sales=pd.pivot_table(data=df[['year','profit','sales']], \n",
    "                        index=['year'], \n",
    "                        values=['profit','sales'],\n",
    "                        aggfunc='sum')\n",
    "year_profit_sales"
   ]
  },
  {
   "cell_type": "code",
   "execution_count": 58,
   "id": "6b85f01a",
   "metadata": {},
   "outputs": [
    {
     "data": {
      "text/plain": [
       "<AxesSubplot:title={'center':'Year_performance'}, xlabel='category', ylabel='Maximum Sales'>"
      ]
     },
     "execution_count": 58,
     "metadata": {},
     "output_type": "execute_result"
    },
    {
     "data": {
      "image/png": "[encoded data removed]",
      "text/plain": [
       "<Figure size 720x360 with 1 Axes>"
      ]
     },
     "metadata": {
      "needs_background": "light"
     },
     "output_type": "display_data"
    }
   ],
   "source": [
    "year_profit_sales.plot(kind='bar', title='Year_performance', ylabel='Maximum Sales',\n",
    "         xlabel='category', figsize=(10, 5))\n",
    "# Creating a bar plot to compare the profit vs sales. "
   ]
  },
  {
   "cell_type": "markdown",
   "id": "dc18338d",
   "metadata": {},
   "source": [
    "### Takeaways: looks like the sales and profit are not volitile, however 2017's profit has decreased, let's take a closer look. "
   ]
  },
  {
   "cell_type": "code",
   "execution_count": 59,
   "id": "b59c8465",
   "metadata": {},
   "outputs": [
    {
     "data": {
      "text/plain": [
       "year\n",
       "2014         NaN\n",
       "2015   -0.084321\n",
       "2016    0.154328\n",
       "2017   -0.092262\n",
       "Name: sales, dtype: float64"
      ]
     },
     "execution_count": 59,
     "metadata": {},
     "output_type": "execute_result"
    }
   ],
   "source": [
    "year_profit_sales.sales.pct_change()\n",
    "# looked up the percertage change compare to the last year. The profit is going down."
   ]
  },
  {
   "cell_type": "code",
   "execution_count": 18,
   "id": "19ee145f",
   "metadata": {},
   "outputs": [
    {
     "data": {
      "text/plain": [
       "year\n",
       "2014         NaN\n",
       "2015   -0.003432\n",
       "2016    0.121780\n",
       "2017   -0.406067\n",
       "Name: profit, dtype: float64"
      ]
     },
     "execution_count": 18,
     "metadata": {},
     "output_type": "execute_result"
    }
   ],
   "source": [
    "# looked up the percertage change compare to the last year. \n",
    "year_profit_sales.profit.pct_change()"
   ]
  },
  {
   "cell_type": "markdown",
   "id": "b0f5b859",
   "metadata": {},
   "source": [
    "***Overall sales are not increasing or decreasing.***"
   ]
  },
  {
   "cell_type": "code",
   "execution_count": 41,
   "id": "737af989",
   "metadata": {},
   "outputs": [
    {
     "data": {
      "text/plain": [
       "<AxesSubplot:title={'center':'Month-to-Month Change in Sales'}, xlabel='Date By Month'>"
      ]
     },
     "execution_count": 41,
     "metadata": {},
     "output_type": "execute_result"
    },
    {
     "data": {
      "image/png": "[encoded data removed]",
      "text/plain": [
       "<Figure size 432x288 with 1 Axes>"
      ]
     },
     "metadata": {
      "needs_background": "light"
     },
     "output_type": "display_data"
    }
   ],
   "source": [
    "# Difference in sales\n",
    "df.resample('M').sales.mean().diff().plot(title='Month-to-Month Change in Sales', xlabel='Date By Month')\n"
   ]
  },
  {
   "cell_type": "markdown",
   "id": "4cce7926",
   "metadata": {},
   "source": [
    "***Takeaways:***"
   ]
  },
  {
   "cell_type": "markdown",
   "id": "45d457ba",
   "metadata": {},
   "source": [
    "## Which was the most profitable sub-category? "
   ]
  },
  {
   "cell_type": "code",
   "execution_count": 61,
   "id": "4bdf807d",
   "metadata": {},
   "outputs": [
    {
     "data": {
      "text/html": [
       "<div>\n",
       "<style scoped>\n",
       "    .dataframe tbody tr th:only-of-type {\n",
       "        vertical-align: middle;\n",
       "    }\n",
       "\n",
       "    .dataframe tbody tr th {\n",
       "        vertical-align: top;\n",
       "    }\n",
       "\n",
       "    .dataframe thead th {\n",
       "        text-align: right;\n",
       "    }\n",
       "</style>\n",
       "<table border=\"1\" class=\"dataframe\">\n",
       "  <thead>\n",
       "    <tr style=\"text-align: right;\">\n",
       "      <th></th>\n",
       "      <th></th>\n",
       "      <th>profit</th>\n",
       "      <th>sales</th>\n",
       "    </tr>\n",
       "    <tr>\n",
       "      <th>category</th>\n",
       "      <th>sub_category</th>\n",
       "      <th></th>\n",
       "      <th></th>\n",
       "    </tr>\n",
       "  </thead>\n",
       "  <tbody>\n",
       "    <tr>\n",
       "      <th rowspan=\"4\" valign=\"top\">Furniture</th>\n",
       "      <th>Bookcases</th>\n",
       "      <td>-2267.7776</td>\n",
       "      <td>20280.1429</td>\n",
       "    </tr>\n",
       "    <tr>\n",
       "      <th>Chairs</th>\n",
       "      <td>4306.3499</td>\n",
       "      <td>54409.2150</td>\n",
       "    </tr>\n",
       "    <tr>\n",
       "      <th>Furnishings</th>\n",
       "      <td>2124.3447</td>\n",
       "      <td>16442.0180</td>\n",
       "    </tr>\n",
       "    <tr>\n",
       "      <th>Tables</th>\n",
       "      <td>-4786.1621</td>\n",
       "      <td>48444.2095</td>\n",
       "    </tr>\n",
       "    <tr>\n",
       "      <th rowspan=\"9\" valign=\"top\">Office Supplies</th>\n",
       "      <th>Appliances</th>\n",
       "      <td>2776.4985</td>\n",
       "      <td>17415.0360</td>\n",
       "    </tr>\n",
       "    <tr>\n",
       "      <th>Art</th>\n",
       "      <td>1336.4246</td>\n",
       "      <td>6346.8080</td>\n",
       "    </tr>\n",
       "    <tr>\n",
       "      <th>Binders</th>\n",
       "      <td>4062.6403</td>\n",
       "      <td>28108.2820</td>\n",
       "    </tr>\n",
       "    <tr>\n",
       "      <th>Envelopes</th>\n",
       "      <td>1394.5297</td>\n",
       "      <td>3349.8260</td>\n",
       "    </tr>\n",
       "    <tr>\n",
       "      <th>Fasteners</th>\n",
       "      <td>215.6470</td>\n",
       "      <td>632.6640</td>\n",
       "    </tr>\n",
       "    <tr>\n",
       "      <th>Labels</th>\n",
       "      <td>1544.5261</td>\n",
       "      <td>3415.5860</td>\n",
       "    </tr>\n",
       "    <tr>\n",
       "      <th>Paper</th>\n",
       "      <td>5464.4993</td>\n",
       "      <td>12671.9140</td>\n",
       "    </tr>\n",
       "    <tr>\n",
       "      <th>Storage</th>\n",
       "      <td>2771.6621</td>\n",
       "      <td>37373.6200</td>\n",
       "    </tr>\n",
       "    <tr>\n",
       "      <th>Supplies</th>\n",
       "      <td>-253.9979</td>\n",
       "      <td>3109.9440</td>\n",
       "    </tr>\n",
       "    <tr>\n",
       "      <th rowspan=\"4\" valign=\"top\">Technology</th>\n",
       "      <th>Accessories</th>\n",
       "      <td>7786.3621</td>\n",
       "      <td>30675.6040</td>\n",
       "    </tr>\n",
       "    <tr>\n",
       "      <th>Copiers</th>\n",
       "      <td>5598.3914</td>\n",
       "      <td>14509.7220</td>\n",
       "    </tr>\n",
       "    <tr>\n",
       "      <th>Machines</th>\n",
       "      <td>-680.6722</td>\n",
       "      <td>44215.5200</td>\n",
       "    </tr>\n",
       "    <tr>\n",
       "      <th>Phones</th>\n",
       "      <td>6547.2634</td>\n",
       "      <td>56043.7140</td>\n",
       "    </tr>\n",
       "  </tbody>\n",
       "</table>\n",
       "</div>"
      ],
      "text/plain": [
       "                                 profit       sales\n",
       "category        sub_category                       \n",
       "Furniture       Bookcases    -2267.7776  20280.1429\n",
       "                Chairs        4306.3499  54409.2150\n",
       "                Furnishings   2124.3447  16442.0180\n",
       "                Tables       -4786.1621  48444.2095\n",
       "Office Supplies Appliances    2776.4985  17415.0360\n",
       "                Art           1336.4246   6346.8080\n",
       "                Binders       4062.6403  28108.2820\n",
       "                Envelopes     1394.5297   3349.8260\n",
       "                Fasteners      215.6470    632.6640\n",
       "                Labels        1544.5261   3415.5860\n",
       "                Paper         5464.4993  12671.9140\n",
       "                Storage       2771.6621  37373.6200\n",
       "                Supplies      -253.9979   3109.9440\n",
       "Technology      Accessories   7786.3621  30675.6040\n",
       "                Copiers       5598.3914  14509.7220\n",
       "                Machines      -680.6722  44215.5200\n",
       "                Phones        6547.2634  56043.7140"
      ]
     },
     "execution_count": 61,
     "metadata": {},
     "output_type": "execute_result"
    }
   ],
   "source": [
    "df_Category_profit = pd.pivot_table(data=df[['category','sub_category','profit','sales']], \n",
    "                        index=['category','sub_category'], \n",
    "                        values=['profit','sales'],\n",
    "                        aggfunc='sum')\n",
    "\n",
    "df_Category_profit\n",
    "#create a category pivot table to show the most profitable category and \n",
    "#sub-category. "
   ]
  },
  {
   "cell_type": "code",
   "execution_count": 78,
   "id": "3fc280b6",
   "metadata": {},
   "outputs": [
    {
     "data": {
      "text/plain": [
       "<AxesSubplot:title={'center':'Category vs Maximum Sales'}, xlabel='category', ylabel='Maximum Sales'>"
      ]
     },
     "execution_count": 78,
     "metadata": {},
     "output_type": "execute_result"
    },
    {
     "data": {
      "image/png": "[encoded data removed]",
      "text/plain": [
       "<Figure size 720x360 with 1 Axes>"
      ]
     },
     "metadata": {
      "needs_background": "light"
     },
     "output_type": "display_data"
    }
   ],
   "source": [
    "#Just polot all items and see if there are anyhing outstanding. \n",
    "df_Category_profit.plot(kind='bar', title='Category vs Maximum Sales', ylabel='Maximum Sales',\n",
    "         xlabel='category', figsize=(10, 5))"
   ]
  },
  {
   "cell_type": "markdown",
   "id": "8dd49550",
   "metadata": {},
   "source": [
    "***Takeawys: looks like the accessories, coipers and phones, papers are top profitable items***"
   ]
  },
  {
   "cell_type": "code",
   "execution_count": 45,
   "id": "a45fafa0",
   "metadata": {},
   "outputs": [
    {
     "data": {
      "text/plain": [
       "sub_category\n",
       "Copiers        180.593271\n",
       "Accessories     16.357904\n",
       "Chairs          11.702038\n",
       "Phones          10.733219\n",
       "Appliances      10.096358\n",
       "dtype: float64"
      ]
     },
     "execution_count": 45,
     "metadata": {},
     "output_type": "execute_result"
    }
   ],
   "source": [
    "#We would look at the avg profit_per item_sold. \n",
    "Avg_profit_per_item_sold = (df.groupby('sub_category')['profit'].sum()) / (df.groupby('sub_category')['quantity'].sum())\n",
    "Avg_profit_per_item_sold.sort_values(ascending=False).head()"
   ]
  },
  {
   "cell_type": "code",
   "execution_count": 46,
   "id": "70c2ce92",
   "metadata": {},
   "outputs": [
    {
     "data": {
      "text/plain": [
       "sub_category\n",
       "Binders        1007.0\n",
       "Paper           823.0\n",
       "Furnishings     616.0\n",
       "Phones          610.0\n",
       "Storage         584.0\n",
       "Name: quantity, dtype: float64"
      ]
     },
     "execution_count": 46,
     "metadata": {},
     "output_type": "execute_result"
    }
   ],
   "source": [
    "#We would like to see the popularity of each sub category. \n",
    "df.groupby('sub_category')['quantity'].sum().sort_values(ascending=False).head()"
   ]
  },
  {
   "cell_type": "markdown",
   "id": "21b8858b",
   "metadata": {},
   "source": [
    "***Takeaways: When we look at the avg profit per item sold, we can see copiers and accessories are the top two sub categories. Surprise to find out that we have only sold 31 copiers but the profit per item are the top 1.***"
   ]
  },
  {
   "cell_type": "markdown",
   "id": "cb16823a",
   "metadata": {},
   "source": [
    "## What item / discount is responsible for the dip in profit for 2017?"
   ]
  },
  {
   "cell_type": "code",
   "execution_count": 25,
   "id": "9eb520d6",
   "metadata": {},
   "outputs": [
    {
     "data": {
      "text/plain": [
       "<AxesSubplot:xlabel='order_date'>"
      ]
     },
     "execution_count": 25,
     "metadata": {},
     "output_type": "execute_result"
    },
    {
     "data": {
      "image/png": "[encoded data removed]",
      "text/plain": [
       "<Figure size 432x288 with 1 Axes>"
      ]
     },
     "metadata": {
      "needs_background": "light"
     },
     "output_type": "display_data"
    }
   ],
   "source": [
    "#df = df.set_index('order_date').sort_index()\n",
    "   \n",
    "df.groupby('category').resample('m').quantity.sum().unstack(0).plot()"
   ]
  },
  {
   "cell_type": "markdown",
   "id": "e202dbb1",
   "metadata": {},
   "source": [
    "***Takeways:Office supplies ***"
   ]
  },
  {
   "cell_type": "markdown",
   "id": "d6d86885",
   "metadata": {},
   "source": [
    "## How was 2017 Q4 performance?"
   ]
  },
  {
   "cell_type": "code",
   "execution_count": 75,
   "id": "0909a746",
   "metadata": {},
   "outputs": [],
   "source": [
    "#Creating a subset for the year of 2017 Q4. \n",
    "oct_nov_dec_2017 = df[((df['month'] == 11) | (df['month'] == 12) | (df['month'] == 10))& (df['year'] == 2017)]"
   ]
  },
  {
   "cell_type": "code",
   "execution_count": 76,
   "id": "0343534c",
   "metadata": {},
   "outputs": [
    {
     "data": {
      "text/html": [
       "<div>\n",
       "<style scoped>\n",
       "    .dataframe tbody tr th:only-of-type {\n",
       "        vertical-align: middle;\n",
       "    }\n",
       "\n",
       "    .dataframe tbody tr th {\n",
       "        vertical-align: top;\n",
       "    }\n",
       "\n",
       "    .dataframe thead th {\n",
       "        text-align: right;\n",
       "    }\n",
       "</style>\n",
       "<table border=\"1\" class=\"dataframe\">\n",
       "  <thead>\n",
       "    <tr style=\"text-align: right;\">\n",
       "      <th></th>\n",
       "      <th></th>\n",
       "      <th></th>\n",
       "      <th>profit</th>\n",
       "      <th>sales</th>\n",
       "    </tr>\n",
       "    <tr>\n",
       "      <th>category</th>\n",
       "      <th>sub-category</th>\n",
       "      <th>discount</th>\n",
       "      <th></th>\n",
       "      <th></th>\n",
       "    </tr>\n",
       "  </thead>\n",
       "  <tbody>\n",
       "    <tr>\n",
       "      <th rowspan=\"14\" valign=\"top\">Furniture</th>\n",
       "      <th rowspan=\"3\" valign=\"top\">Bookcases</th>\n",
       "      <th>0.15</th>\n",
       "      <td>4.2882</td>\n",
       "      <td>1764.3280</td>\n",
       "    </tr>\n",
       "    <tr>\n",
       "      <th>0.20</th>\n",
       "      <td>16.9172</td>\n",
       "      <td>515.1200</td>\n",
       "    </tr>\n",
       "    <tr>\n",
       "      <th>0.32</th>\n",
       "      <td>-11.5960</td>\n",
       "      <td>78.8528</td>\n",
       "    </tr>\n",
       "    <tr>\n",
       "      <th rowspan=\"4\" valign=\"top\">Chairs</th>\n",
       "      <th>0.00</th>\n",
       "      <td>226.9644</td>\n",
       "      <td>872.9400</td>\n",
       "    </tr>\n",
       "    <tr>\n",
       "      <th>0.10</th>\n",
       "      <td>575.7010</td>\n",
       "      <td>3362.1300</td>\n",
       "    </tr>\n",
       "    <tr>\n",
       "      <th>0.20</th>\n",
       "      <td>-67.7057</td>\n",
       "      <td>2848.5040</td>\n",
       "    </tr>\n",
       "    <tr>\n",
       "      <th>0.30</th>\n",
       "      <td>-27.2840</td>\n",
       "      <td>318.2900</td>\n",
       "    </tr>\n",
       "    <tr>\n",
       "      <th rowspan=\"3\" valign=\"top\">Furnishings</th>\n",
       "      <th>0.00</th>\n",
       "      <td>426.0018</td>\n",
       "      <td>1272.1800</td>\n",
       "    </tr>\n",
       "    <tr>\n",
       "      <th>0.20</th>\n",
       "      <td>92.0865</td>\n",
       "      <td>1896.2880</td>\n",
       "    </tr>\n",
       "    <tr>\n",
       "      <th>0.60</th>\n",
       "      <td>-19.8178</td>\n",
       "      <td>25.7000</td>\n",
       "    </tr>\n",
       "    <tr>\n",
       "      <th rowspan=\"4\" valign=\"top\">Tables</th>\n",
       "      <th>0.00</th>\n",
       "      <td>116.8720</td>\n",
       "      <td>1669.6000</td>\n",
       "    </tr>\n",
       "    <tr>\n",
       "      <th>0.20</th>\n",
       "      <td>-112.9527</td>\n",
       "      <td>1004.0240</td>\n",
       "    </tr>\n",
       "    <tr>\n",
       "      <th>0.40</th>\n",
       "      <td>-695.4264</td>\n",
       "      <td>2349.6840</td>\n",
       "    </tr>\n",
       "    <tr>\n",
       "      <th>0.50</th>\n",
       "      <td>-604.7148</td>\n",
       "      <td>938.1700</td>\n",
       "    </tr>\n",
       "    <tr>\n",
       "      <th rowspan=\"20\" valign=\"top\">Office Supplies</th>\n",
       "      <th rowspan=\"3\" valign=\"top\">Appliances</th>\n",
       "      <th>0.00</th>\n",
       "      <td>1323.0513</td>\n",
       "      <td>4552.7600</td>\n",
       "    </tr>\n",
       "    <tr>\n",
       "      <th>0.20</th>\n",
       "      <td>18.1556</td>\n",
       "      <td>198.5920</td>\n",
       "    </tr>\n",
       "    <tr>\n",
       "      <th>0.80</th>\n",
       "      <td>-203.6754</td>\n",
       "      <td>75.6080</td>\n",
       "    </tr>\n",
       "    <tr>\n",
       "      <th rowspan=\"2\" valign=\"top\">Art</th>\n",
       "      <th>0.00</th>\n",
       "      <td>134.7135</td>\n",
       "      <td>407.2700</td>\n",
       "    </tr>\n",
       "    <tr>\n",
       "      <th>0.20</th>\n",
       "      <td>26.7015</td>\n",
       "      <td>312.2320</td>\n",
       "    </tr>\n",
       "    <tr>\n",
       "      <th rowspan=\"4\" valign=\"top\">Binders</th>\n",
       "      <th>0.00</th>\n",
       "      <td>289.7814</td>\n",
       "      <td>613.6200</td>\n",
       "    </tr>\n",
       "    <tr>\n",
       "      <th>0.20</th>\n",
       "      <td>290.6189</td>\n",
       "      <td>861.6720</td>\n",
       "    </tr>\n",
       "    <tr>\n",
       "      <th>0.70</th>\n",
       "      <td>-38.7557</td>\n",
       "      <td>56.8890</td>\n",
       "    </tr>\n",
       "    <tr>\n",
       "      <th>0.80</th>\n",
       "      <td>-34.0224</td>\n",
       "      <td>19.5840</td>\n",
       "    </tr>\n",
       "    <tr>\n",
       "      <th rowspan=\"2\" valign=\"top\">Envelopes</th>\n",
       "      <th>0.00</th>\n",
       "      <td>7.4872</td>\n",
       "      <td>15.2800</td>\n",
       "    </tr>\n",
       "    <tr>\n",
       "      <th>0.20</th>\n",
       "      <td>21.5910</td>\n",
       "      <td>57.5760</td>\n",
       "    </tr>\n",
       "    <tr>\n",
       "      <th rowspan=\"2\" valign=\"top\">Fasteners</th>\n",
       "      <th>0.00</th>\n",
       "      <td>24.0523</td>\n",
       "      <td>69.2100</td>\n",
       "    </tr>\n",
       "    <tr>\n",
       "      <th>0.20</th>\n",
       "      <td>2.5707</td>\n",
       "      <td>10.8240</td>\n",
       "    </tr>\n",
       "    <tr>\n",
       "      <th rowspan=\"2\" valign=\"top\">Labels</th>\n",
       "      <th>0.00</th>\n",
       "      <td>77.6544</td>\n",
       "      <td>163.2100</td>\n",
       "    </tr>\n",
       "    <tr>\n",
       "      <th>0.20</th>\n",
       "      <td>20.9670</td>\n",
       "      <td>58.9600</td>\n",
       "    </tr>\n",
       "    <tr>\n",
       "      <th rowspan=\"2\" valign=\"top\">Paper</th>\n",
       "      <th>0.00</th>\n",
       "      <td>289.9117</td>\n",
       "      <td>609.6000</td>\n",
       "    </tr>\n",
       "    <tr>\n",
       "      <th>0.20</th>\n",
       "      <td>131.9049</td>\n",
       "      <td>410.7280</td>\n",
       "    </tr>\n",
       "    <tr>\n",
       "      <th rowspan=\"2\" valign=\"top\">Storage</th>\n",
       "      <th>0.00</th>\n",
       "      <td>653.8787</td>\n",
       "      <td>2996.5200</td>\n",
       "    </tr>\n",
       "    <tr>\n",
       "      <th>0.20</th>\n",
       "      <td>2.0843</td>\n",
       "      <td>1803.9840</td>\n",
       "    </tr>\n",
       "    <tr>\n",
       "      <th>Supplies</th>\n",
       "      <th>0.20</th>\n",
       "      <td>0.5004</td>\n",
       "      <td>6.6720</td>\n",
       "    </tr>\n",
       "    <tr>\n",
       "      <th rowspan=\"8\" valign=\"top\">Technology</th>\n",
       "      <th rowspan=\"2\" valign=\"top\">Accessories</th>\n",
       "      <th>0.00</th>\n",
       "      <td>340.4027</td>\n",
       "      <td>953.9400</td>\n",
       "    </tr>\n",
       "    <tr>\n",
       "      <th>0.20</th>\n",
       "      <td>-15.0187</td>\n",
       "      <td>328.2640</td>\n",
       "    </tr>\n",
       "    <tr>\n",
       "      <th>Copiers</th>\n",
       "      <th>0.20</th>\n",
       "      <td>434.9913</td>\n",
       "      <td>1199.9760</td>\n",
       "    </tr>\n",
       "    <tr>\n",
       "      <th rowspan=\"2\" valign=\"top\">Machines</th>\n",
       "      <th>0.50</th>\n",
       "      <td>-3839.9904</td>\n",
       "      <td>7999.9800</td>\n",
       "    </tr>\n",
       "    <tr>\n",
       "      <th>0.70</th>\n",
       "      <td>-63.9960</td>\n",
       "      <td>95.9940</td>\n",
       "    </tr>\n",
       "    <tr>\n",
       "      <th rowspan=\"3\" valign=\"top\">Phones</th>\n",
       "      <th>0.00</th>\n",
       "      <td>45.5906</td>\n",
       "      <td>398.6900</td>\n",
       "    </tr>\n",
       "    <tr>\n",
       "      <th>0.20</th>\n",
       "      <td>333.4246</td>\n",
       "      <td>3092.0560</td>\n",
       "    </tr>\n",
       "    <tr>\n",
       "      <th>0.40</th>\n",
       "      <td>-81.2348</td>\n",
       "      <td>650.2680</td>\n",
       "    </tr>\n",
       "  </tbody>\n",
       "</table>\n",
       "</div>"
      ],
      "text/plain": [
       "                                          profit      sales\n",
       "category        sub-category discount                      \n",
       "Furniture       Bookcases    0.15         4.2882  1764.3280\n",
       "                             0.20        16.9172   515.1200\n",
       "                             0.32       -11.5960    78.8528\n",
       "                Chairs       0.00       226.9644   872.9400\n",
       "                             0.10       575.7010  3362.1300\n",
       "                             0.20       -67.7057  2848.5040\n",
       "                             0.30       -27.2840   318.2900\n",
       "                Furnishings  0.00       426.0018  1272.1800\n",
       "                             0.20        92.0865  1896.2880\n",
       "                             0.60       -19.8178    25.7000\n",
       "                Tables       0.00       116.8720  1669.6000\n",
       "                             0.20      -112.9527  1004.0240\n",
       "                             0.40      -695.4264  2349.6840\n",
       "                             0.50      -604.7148   938.1700\n",
       "Office Supplies Appliances   0.00      1323.0513  4552.7600\n",
       "                             0.20        18.1556   198.5920\n",
       "                             0.80      -203.6754    75.6080\n",
       "                Art          0.00       134.7135   407.2700\n",
       "                             0.20        26.7015   312.2320\n",
       "                Binders      0.00       289.7814   613.6200\n",
       "                             0.20       290.6189   861.6720\n",
       "                             0.70       -38.7557    56.8890\n",
       "                             0.80       -34.0224    19.5840\n",
       "                Envelopes    0.00         7.4872    15.2800\n",
       "                             0.20        21.5910    57.5760\n",
       "                Fasteners    0.00        24.0523    69.2100\n",
       "                             0.20         2.5707    10.8240\n",
       "                Labels       0.00        77.6544   163.2100\n",
       "                             0.20        20.9670    58.9600\n",
       "                Paper        0.00       289.9117   609.6000\n",
       "                             0.20       131.9049   410.7280\n",
       "                Storage      0.00       653.8787  2996.5200\n",
       "                             0.20         2.0843  1803.9840\n",
       "                Supplies     0.20         0.5004     6.6720\n",
       "Technology      Accessories  0.00       340.4027   953.9400\n",
       "                             0.20       -15.0187   328.2640\n",
       "                Copiers      0.20       434.9913  1199.9760\n",
       "                Machines     0.50     -3839.9904  7999.9800\n",
       "                             0.70       -63.9960    95.9940\n",
       "                Phones       0.00        45.5906   398.6900\n",
       "                             0.20       333.4246  3092.0560\n",
       "                             0.40       -81.2348   650.2680"
      ]
     },
     "execution_count": 76,
     "metadata": {},
     "output_type": "execute_result"
    }
   ],
   "source": [
    "pd.pivot_table(data=oct_nov_dec_2017[['category','sub-category','discount','profit','sales']], \n",
    "                        index=['category','sub-category','discount'], \n",
    "                        values=['profit','sales'],\n",
    "                        aggfunc='sum')\n",
    "# creating the pivot table to see id there any categories that are lossing money. "
   ]
  },
  {
   "cell_type": "code",
   "execution_count": 39,
   "id": "e7d81b59",
   "metadata": {},
   "outputs": [
    {
     "data": {
      "text/html": [
       "<div>\n",
       "<style scoped>\n",
       "    .dataframe tbody tr th:only-of-type {\n",
       "        vertical-align: middle;\n",
       "    }\n",
       "\n",
       "    .dataframe tbody tr th {\n",
       "        vertical-align: top;\n",
       "    }\n",
       "\n",
       "    .dataframe thead th {\n",
       "        text-align: right;\n",
       "    }\n",
       "</style>\n",
       "<table border=\"1\" class=\"dataframe\">\n",
       "  <thead>\n",
       "    <tr style=\"text-align: right;\">\n",
       "      <th></th>\n",
       "      <th>order_id</th>\n",
       "      <th>ship_date</th>\n",
       "      <th>shipping_method</th>\n",
       "      <th>customer_id</th>\n",
       "      <th>segment</th>\n",
       "      <th>country</th>\n",
       "      <th>city</th>\n",
       "      <th>state</th>\n",
       "      <th>zip_code</th>\n",
       "      <th>product id</th>\n",
       "      <th>...</th>\n",
       "      <th>category_id</th>\n",
       "      <th>region_id</th>\n",
       "      <th>product name</th>\n",
       "      <th>category</th>\n",
       "      <th>sub_category</th>\n",
       "      <th>region_name</th>\n",
       "      <th>year</th>\n",
       "      <th>month</th>\n",
       "      <th>discount_bin</th>\n",
       "      <th>discount_level</th>\n",
       "    </tr>\n",
       "    <tr>\n",
       "      <th>order_date</th>\n",
       "      <th></th>\n",
       "      <th></th>\n",
       "      <th></th>\n",
       "      <th></th>\n",
       "      <th></th>\n",
       "      <th></th>\n",
       "      <th></th>\n",
       "      <th></th>\n",
       "      <th></th>\n",
       "      <th></th>\n",
       "      <th></th>\n",
       "      <th></th>\n",
       "      <th></th>\n",
       "      <th></th>\n",
       "      <th></th>\n",
       "      <th></th>\n",
       "      <th></th>\n",
       "      <th></th>\n",
       "      <th></th>\n",
       "      <th></th>\n",
       "      <th></th>\n",
       "    </tr>\n",
       "  </thead>\n",
       "  <tbody>\n",
       "    <tr>\n",
       "      <th>2017-11-28</th>\n",
       "      <td>US-2017-110576</td>\n",
       "      <td>2017-12-02</td>\n",
       "      <td>Standard Class</td>\n",
       "      <td>RB-19795</td>\n",
       "      <td>Home Office</td>\n",
       "      <td>United States</td>\n",
       "      <td>Philadelphia</td>\n",
       "      <td>Pennsylvania</td>\n",
       "      <td>19120.0</td>\n",
       "      <td>FUR-FU-10000576</td>\n",
       "      <td>...</td>\n",
       "      <td>6</td>\n",
       "      <td>4</td>\n",
       "      <td>Luxo Professional Fluorescent Magnifier Lamp w...</td>\n",
       "      <td>Furniture</td>\n",
       "      <td>Furnishings</td>\n",
       "      <td>East</td>\n",
       "      <td>2017</td>\n",
       "      <td>11</td>\n",
       "      <td>low</td>\n",
       "      <td>0-20</td>\n",
       "    </tr>\n",
       "    <tr>\n",
       "      <th>2017-11-28</th>\n",
       "      <td>US-2017-110576</td>\n",
       "      <td>2017-12-02</td>\n",
       "      <td>Standard Class</td>\n",
       "      <td>RB-19795</td>\n",
       "      <td>Home Office</td>\n",
       "      <td>United States</td>\n",
       "      <td>Philadelphia</td>\n",
       "      <td>Pennsylvania</td>\n",
       "      <td>19120.0</td>\n",
       "      <td>FUR-TA-10004154</td>\n",
       "      <td>...</td>\n",
       "      <td>4</td>\n",
       "      <td>4</td>\n",
       "      <td>Riverside Furniture Oval Coffee Table, Oval En...</td>\n",
       "      <td>Furniture</td>\n",
       "      <td>Tables</td>\n",
       "      <td>East</td>\n",
       "      <td>2017</td>\n",
       "      <td>11</td>\n",
       "      <td>high</td>\n",
       "      <td>0-20</td>\n",
       "    </tr>\n",
       "    <tr>\n",
       "      <th>2017-11-28</th>\n",
       "      <td>US-2017-110576</td>\n",
       "      <td>2017-12-02</td>\n",
       "      <td>Standard Class</td>\n",
       "      <td>RB-19795</td>\n",
       "      <td>Home Office</td>\n",
       "      <td>United States</td>\n",
       "      <td>Philadelphia</td>\n",
       "      <td>Pennsylvania</td>\n",
       "      <td>19120.0</td>\n",
       "      <td>FUR-FU-10003601</td>\n",
       "      <td>...</td>\n",
       "      <td>6</td>\n",
       "      <td>4</td>\n",
       "      <td>Deflect-o RollaMat Studded, Beveled Mat for Me...</td>\n",
       "      <td>Furniture</td>\n",
       "      <td>Furnishings</td>\n",
       "      <td>East</td>\n",
       "      <td>2017</td>\n",
       "      <td>11</td>\n",
       "      <td>low</td>\n",
       "      <td>0-20</td>\n",
       "    </tr>\n",
       "    <tr>\n",
       "      <th>2017-11-28</th>\n",
       "      <td>US-2017-110576</td>\n",
       "      <td>2017-12-02</td>\n",
       "      <td>Standard Class</td>\n",
       "      <td>RB-19795</td>\n",
       "      <td>Home Office</td>\n",
       "      <td>United States</td>\n",
       "      <td>Philadelphia</td>\n",
       "      <td>Pennsylvania</td>\n",
       "      <td>19120.0</td>\n",
       "      <td>OFF-PA-10000788</td>\n",
       "      <td>...</td>\n",
       "      <td>11</td>\n",
       "      <td>4</td>\n",
       "      <td>Xerox 210</td>\n",
       "      <td>Office Supplies</td>\n",
       "      <td>Paper</td>\n",
       "      <td>East</td>\n",
       "      <td>2017</td>\n",
       "      <td>11</td>\n",
       "      <td>low</td>\n",
       "      <td>0-20</td>\n",
       "    </tr>\n",
       "    <tr>\n",
       "      <th>2017-11-28</th>\n",
       "      <td>US-2017-110576</td>\n",
       "      <td>2017-12-02</td>\n",
       "      <td>Standard Class</td>\n",
       "      <td>RB-19795</td>\n",
       "      <td>Home Office</td>\n",
       "      <td>United States</td>\n",
       "      <td>Philadelphia</td>\n",
       "      <td>Pennsylvania</td>\n",
       "      <td>19120.0</td>\n",
       "      <td>OFF-PA-10002479</td>\n",
       "      <td>...</td>\n",
       "      <td>11</td>\n",
       "      <td>4</td>\n",
       "      <td>Xerox 4200 Series MultiUse Premium Copy Paper ...</td>\n",
       "      <td>Office Supplies</td>\n",
       "      <td>Paper</td>\n",
       "      <td>East</td>\n",
       "      <td>2017</td>\n",
       "      <td>11</td>\n",
       "      <td>low</td>\n",
       "      <td>0-20</td>\n",
       "    </tr>\n",
       "  </tbody>\n",
       "</table>\n",
       "<p>5 rows × 24 columns</p>\n",
       "</div>"
      ],
      "text/plain": [
       "                  order_id   ship_date shipping_method customer_id  \\\n",
       "order_date                                                           \n",
       "2017-11-28  US-2017-110576  2017-12-02  Standard Class    RB-19795   \n",
       "2017-11-28  US-2017-110576  2017-12-02  Standard Class    RB-19795   \n",
       "2017-11-28  US-2017-110576  2017-12-02  Standard Class    RB-19795   \n",
       "2017-11-28  US-2017-110576  2017-12-02  Standard Class    RB-19795   \n",
       "2017-11-28  US-2017-110576  2017-12-02  Standard Class    RB-19795   \n",
       "\n",
       "                segment        country          city         state  zip_code  \\\n",
       "order_date                                                                     \n",
       "2017-11-28  Home Office  United States  Philadelphia  Pennsylvania   19120.0   \n",
       "2017-11-28  Home Office  United States  Philadelphia  Pennsylvania   19120.0   \n",
       "2017-11-28  Home Office  United States  Philadelphia  Pennsylvania   19120.0   \n",
       "2017-11-28  Home Office  United States  Philadelphia  Pennsylvania   19120.0   \n",
       "2017-11-28  Home Office  United States  Philadelphia  Pennsylvania   19120.0   \n",
       "\n",
       "                 product id  ...  category_id  region_id  \\\n",
       "order_date                   ...                           \n",
       "2017-11-28  FUR-FU-10000576  ...            6          4   \n",
       "2017-11-28  FUR-TA-10004154  ...            4          4   \n",
       "2017-11-28  FUR-FU-10003601  ...            6          4   \n",
       "2017-11-28  OFF-PA-10000788  ...           11          4   \n",
       "2017-11-28  OFF-PA-10002479  ...           11          4   \n",
       "\n",
       "                                                 product name  \\\n",
       "order_date                                                      \n",
       "2017-11-28  Luxo Professional Fluorescent Magnifier Lamp w...   \n",
       "2017-11-28  Riverside Furniture Oval Coffee Table, Oval En...   \n",
       "2017-11-28  Deflect-o RollaMat Studded, Beveled Mat for Me...   \n",
       "2017-11-28                                          Xerox 210   \n",
       "2017-11-28  Xerox 4200 Series MultiUse Premium Copy Paper ...   \n",
       "\n",
       "                   category  sub_category  region_name  year month  \\\n",
       "order_date                                                           \n",
       "2017-11-28        Furniture   Furnishings         East  2017    11   \n",
       "2017-11-28        Furniture        Tables         East  2017    11   \n",
       "2017-11-28        Furniture   Furnishings         East  2017    11   \n",
       "2017-11-28  Office Supplies         Paper         East  2017    11   \n",
       "2017-11-28  Office Supplies         Paper         East  2017    11   \n",
       "\n",
       "           discount_bin discount_level  \n",
       "order_date                              \n",
       "2017-11-28          low           0-20  \n",
       "2017-11-28         high           0-20  \n",
       "2017-11-28          low           0-20  \n",
       "2017-11-28          low           0-20  \n",
       "2017-11-28          low           0-20  \n",
       "\n",
       "[5 rows x 24 columns]"
      ]
     },
     "execution_count": 39,
     "metadata": {},
     "output_type": "execute_result"
    }
   ],
   "source": [
    "df.loc['2017-11-28']"
   ]
  },
  {
   "cell_type": "markdown",
   "id": "062831df",
   "metadata": {},
   "source": [
    "***Takeaway:*** "
   ]
  },
  {
   "cell_type": "code",
   "execution_count": 40,
   "id": "96f458ab",
   "metadata": {},
   "outputs": [
    {
     "data": {
      "text/html": [
       "<div>\n",
       "<style scoped>\n",
       "    .dataframe tbody tr th:only-of-type {\n",
       "        vertical-align: middle;\n",
       "    }\n",
       "\n",
       "    .dataframe tbody tr th {\n",
       "        vertical-align: top;\n",
       "    }\n",
       "\n",
       "    .dataframe thead th {\n",
       "        text-align: right;\n",
       "    }\n",
       "</style>\n",
       "<table border=\"1\" class=\"dataframe\">\n",
       "  <thead>\n",
       "    <tr style=\"text-align: right;\">\n",
       "      <th></th>\n",
       "      <th>order_id</th>\n",
       "      <th>ship_date</th>\n",
       "      <th>shipping_method</th>\n",
       "      <th>customer_id</th>\n",
       "      <th>segment</th>\n",
       "      <th>country</th>\n",
       "      <th>city</th>\n",
       "      <th>state</th>\n",
       "      <th>zip_code</th>\n",
       "      <th>product id</th>\n",
       "      <th>...</th>\n",
       "      <th>category_id</th>\n",
       "      <th>region_id</th>\n",
       "      <th>product name</th>\n",
       "      <th>category</th>\n",
       "      <th>sub_category</th>\n",
       "      <th>region_name</th>\n",
       "      <th>year</th>\n",
       "      <th>month</th>\n",
       "      <th>discount_bin</th>\n",
       "      <th>discount_level</th>\n",
       "    </tr>\n",
       "    <tr>\n",
       "      <th>order_date</th>\n",
       "      <th></th>\n",
       "      <th></th>\n",
       "      <th></th>\n",
       "      <th></th>\n",
       "      <th></th>\n",
       "      <th></th>\n",
       "      <th></th>\n",
       "      <th></th>\n",
       "      <th></th>\n",
       "      <th></th>\n",
       "      <th></th>\n",
       "      <th></th>\n",
       "      <th></th>\n",
       "      <th></th>\n",
       "      <th></th>\n",
       "      <th></th>\n",
       "      <th></th>\n",
       "      <th></th>\n",
       "      <th></th>\n",
       "      <th></th>\n",
       "      <th></th>\n",
       "    </tr>\n",
       "  </thead>\n",
       "  <tbody>\n",
       "    <tr>\n",
       "      <th>2017-11-04</th>\n",
       "      <td>US-2017-168116</td>\n",
       "      <td>2017-11-04</td>\n",
       "      <td>Same Day</td>\n",
       "      <td>GT-14635</td>\n",
       "      <td>Corporate</td>\n",
       "      <td>United States</td>\n",
       "      <td>Burlington</td>\n",
       "      <td>North Carolina</td>\n",
       "      <td>27217.0</td>\n",
       "      <td>OFF-AP-10002457</td>\n",
       "      <td>...</td>\n",
       "      <td>10</td>\n",
       "      <td>1</td>\n",
       "      <td>Eureka The Boss Plus 12-Amp Hard Box Upright V...</td>\n",
       "      <td>Office Supplies</td>\n",
       "      <td>Appliances</td>\n",
       "      <td>South</td>\n",
       "      <td>2017</td>\n",
       "      <td>11</td>\n",
       "      <td>low</td>\n",
       "      <td>0-20</td>\n",
       "    </tr>\n",
       "    <tr>\n",
       "      <th>2017-11-04</th>\n",
       "      <td>CA-2017-105144</td>\n",
       "      <td>2017-11-11</td>\n",
       "      <td>Standard Class</td>\n",
       "      <td>SZ-20035</td>\n",
       "      <td>Home Office</td>\n",
       "      <td>United States</td>\n",
       "      <td>Grand Prairie</td>\n",
       "      <td>Texas</td>\n",
       "      <td>75051.0</td>\n",
       "      <td>OFF-LA-10003923</td>\n",
       "      <td>...</td>\n",
       "      <td>3</td>\n",
       "      <td>3</td>\n",
       "      <td>Alphabetical Labels for Top Tab Filing</td>\n",
       "      <td>Office Supplies</td>\n",
       "      <td>Labels</td>\n",
       "      <td>Central</td>\n",
       "      <td>2017</td>\n",
       "      <td>11</td>\n",
       "      <td>low</td>\n",
       "      <td>0-20</td>\n",
       "    </tr>\n",
       "    <tr>\n",
       "      <th>2017-11-04</th>\n",
       "      <td>US-2017-156083</td>\n",
       "      <td>2017-11-11</td>\n",
       "      <td>Standard Class</td>\n",
       "      <td>JL-15175</td>\n",
       "      <td>Home Office</td>\n",
       "      <td>United States</td>\n",
       "      <td>Columbia</td>\n",
       "      <td>Tennessee</td>\n",
       "      <td>38401.0</td>\n",
       "      <td>OFF-PA-10001560</td>\n",
       "      <td>...</td>\n",
       "      <td>11</td>\n",
       "      <td>1</td>\n",
       "      <td>Adams Telephone Message Books, 5 1/4” x 11”</td>\n",
       "      <td>Office Supplies</td>\n",
       "      <td>Paper</td>\n",
       "      <td>South</td>\n",
       "      <td>2017</td>\n",
       "      <td>11</td>\n",
       "      <td>low</td>\n",
       "      <td>0-20</td>\n",
       "    </tr>\n",
       "    <tr>\n",
       "      <th>2017-11-04</th>\n",
       "      <td>US-2017-168116</td>\n",
       "      <td>2017-11-04</td>\n",
       "      <td>Same Day</td>\n",
       "      <td>GT-14635</td>\n",
       "      <td>Corporate</td>\n",
       "      <td>United States</td>\n",
       "      <td>Burlington</td>\n",
       "      <td>North Carolina</td>\n",
       "      <td>27217.0</td>\n",
       "      <td>TEC-MA-10004125</td>\n",
       "      <td>...</td>\n",
       "      <td>16</td>\n",
       "      <td>1</td>\n",
       "      <td>Cubify CubeX 3D Printer Triple Head Print</td>\n",
       "      <td>Technology</td>\n",
       "      <td>Machines</td>\n",
       "      <td>South</td>\n",
       "      <td>2017</td>\n",
       "      <td>11</td>\n",
       "      <td>high</td>\n",
       "      <td>20-40</td>\n",
       "    </tr>\n",
       "  </tbody>\n",
       "</table>\n",
       "<p>4 rows × 24 columns</p>\n",
       "</div>"
      ],
      "text/plain": [
       "                  order_id   ship_date shipping_method customer_id  \\\n",
       "order_date                                                           \n",
       "2017-11-04  US-2017-168116  2017-11-04        Same Day    GT-14635   \n",
       "2017-11-04  CA-2017-105144  2017-11-11  Standard Class    SZ-20035   \n",
       "2017-11-04  US-2017-156083  2017-11-11  Standard Class    JL-15175   \n",
       "2017-11-04  US-2017-168116  2017-11-04        Same Day    GT-14635   \n",
       "\n",
       "                segment        country           city           state  \\\n",
       "order_date                                                              \n",
       "2017-11-04    Corporate  United States     Burlington  North Carolina   \n",
       "2017-11-04  Home Office  United States  Grand Prairie           Texas   \n",
       "2017-11-04  Home Office  United States       Columbia       Tennessee   \n",
       "2017-11-04    Corporate  United States     Burlington  North Carolina   \n",
       "\n",
       "            zip_code       product id  ...  category_id  region_id  \\\n",
       "order_date                             ...                           \n",
       "2017-11-04   27217.0  OFF-AP-10002457  ...           10          1   \n",
       "2017-11-04   75051.0  OFF-LA-10003923  ...            3          3   \n",
       "2017-11-04   38401.0  OFF-PA-10001560  ...           11          1   \n",
       "2017-11-04   27217.0  TEC-MA-10004125  ...           16          1   \n",
       "\n",
       "                                                 product name  \\\n",
       "order_date                                                      \n",
       "2017-11-04  Eureka The Boss Plus 12-Amp Hard Box Upright V...   \n",
       "2017-11-04             Alphabetical Labels for Top Tab Filing   \n",
       "2017-11-04        Adams Telephone Message Books, 5 1/4” x 11”   \n",
       "2017-11-04          Cubify CubeX 3D Printer Triple Head Print   \n",
       "\n",
       "                   category  sub_category  region_name  year month  \\\n",
       "order_date                                                           \n",
       "2017-11-04  Office Supplies    Appliances        South  2017    11   \n",
       "2017-11-04  Office Supplies        Labels      Central  2017    11   \n",
       "2017-11-04  Office Supplies         Paper        South  2017    11   \n",
       "2017-11-04       Technology      Machines        South  2017    11   \n",
       "\n",
       "           discount_bin discount_level  \n",
       "order_date                              \n",
       "2017-11-04          low           0-20  \n",
       "2017-11-04          low           0-20  \n",
       "2017-11-04          low           0-20  \n",
       "2017-11-04         high          20-40  \n",
       "\n",
       "[4 rows x 24 columns]"
      ]
     },
     "execution_count": 40,
     "metadata": {},
     "output_type": "execute_result"
    }
   ],
   "source": [
    "df.loc['2017-11-04']"
   ]
  },
  {
   "cell_type": "markdown",
   "id": "2a299e5a",
   "metadata": {},
   "source": [
    "***Takeaway:*** "
   ]
  },
  {
   "cell_type": "code",
   "execution_count": 49,
   "id": "aa243926",
   "metadata": {},
   "outputs": [
    {
     "data": {
      "text/plain": [
       "<matplotlib.legend.Legend at 0x7f97cf122700>"
      ]
     },
     "execution_count": 49,
     "metadata": {},
     "output_type": "execute_result"
    },
    {
     "data": {
      "image/png": "[encoded data removed]",
      "text/plain": [
       "<Figure size 432x288 with 1 Axes>"
      ]
     },
     "metadata": {
      "needs_background": "light"
     },
     "output_type": "display_data"
    }
   ],
   "source": [
    "the_list = df[df['sub_category'] != 'Paper']\n",
    "the_list = the_list[the_list['sub_category'] != 'Supplies']\n",
    "the_list = the_list[the_list['sub_category'] != 'Bookcases']\n",
    "the_list = the_list[the_list['sub_category'] != 'Fasteners']\n",
    "the_list = the_list[the_list['sub_category'] != 'Tables']\n",
    "the_list = the_list[the_list['sub_category'] != 'Labels']\n",
    "the_list = the_list[the_list['sub_category'] != 'Art']\n",
    "the_list = the_list[the_list['sub_category'] != 'Storage']\n",
    "the_list = the_list[the_list['sub_category'] != 'Furnishings']\n",
    "the_list.groupby('sub_category').resample('m').profit.sum().unstack(0).plot()\n",
    "plt.legend(loc=\"upper left\", bbox_to_anchor=(1, 1))"
   ]
  },
  {
   "cell_type": "markdown",
   "id": "c5ea02b1",
   "metadata": {},
   "source": [
    "***Takeaways***"
   ]
  },
  {
   "cell_type": "markdown",
   "id": "e3086257",
   "metadata": {},
   "source": [
    "## Overall Q4 Sales for the past three years. "
   ]
  },
  {
   "cell_type": "code",
   "execution_count": 48,
   "id": "6f4e38a7",
   "metadata": {},
   "outputs": [
    {
     "data": {
      "text/html": [
       "<div>\n",
       "<style scoped>\n",
       "    .dataframe tbody tr th:only-of-type {\n",
       "        vertical-align: middle;\n",
       "    }\n",
       "\n",
       "    .dataframe tbody tr th {\n",
       "        vertical-align: top;\n",
       "    }\n",
       "\n",
       "    .dataframe thead th {\n",
       "        text-align: right;\n",
       "    }\n",
       "</style>\n",
       "<table border=\"1\" class=\"dataframe\">\n",
       "  <thead>\n",
       "    <tr style=\"text-align: right;\">\n",
       "      <th></th>\n",
       "      <th>order_id</th>\n",
       "      <th>ship_date</th>\n",
       "      <th>shipping_method</th>\n",
       "      <th>customer_id</th>\n",
       "      <th>segment</th>\n",
       "      <th>country</th>\n",
       "      <th>city</th>\n",
       "      <th>state</th>\n",
       "      <th>zip_code</th>\n",
       "      <th>product id</th>\n",
       "      <th>...</th>\n",
       "      <th>category_id</th>\n",
       "      <th>region_id</th>\n",
       "      <th>product name</th>\n",
       "      <th>category</th>\n",
       "      <th>sub_category</th>\n",
       "      <th>region_name</th>\n",
       "      <th>year</th>\n",
       "      <th>month</th>\n",
       "      <th>discount_bin</th>\n",
       "      <th>discount_level</th>\n",
       "    </tr>\n",
       "    <tr>\n",
       "      <th>order_date</th>\n",
       "      <th></th>\n",
       "      <th></th>\n",
       "      <th></th>\n",
       "      <th></th>\n",
       "      <th></th>\n",
       "      <th></th>\n",
       "      <th></th>\n",
       "      <th></th>\n",
       "      <th></th>\n",
       "      <th></th>\n",
       "      <th></th>\n",
       "      <th></th>\n",
       "      <th></th>\n",
       "      <th></th>\n",
       "      <th></th>\n",
       "      <th></th>\n",
       "      <th></th>\n",
       "      <th></th>\n",
       "      <th></th>\n",
       "      <th></th>\n",
       "      <th></th>\n",
       "    </tr>\n",
       "  </thead>\n",
       "  <tbody>\n",
       "    <tr>\n",
       "      <th>2014-10-03</th>\n",
       "      <td>CA-2014-153976</td>\n",
       "      <td>2014-10-08</td>\n",
       "      <td>Second Class</td>\n",
       "      <td>BP-11290</td>\n",
       "      <td>Consumer</td>\n",
       "      <td>United States</td>\n",
       "      <td>Evanston</td>\n",
       "      <td>Illinois</td>\n",
       "      <td>60201.0</td>\n",
       "      <td>FUR-CH-10002880</td>\n",
       "      <td>...</td>\n",
       "      <td>2</td>\n",
       "      <td>3</td>\n",
       "      <td>Global High-Back Leather Tilter, Burgundy</td>\n",
       "      <td>Furniture</td>\n",
       "      <td>Chairs</td>\n",
       "      <td>Central</td>\n",
       "      <td>2014</td>\n",
       "      <td>10</td>\n",
       "      <td>high</td>\n",
       "      <td>0-20</td>\n",
       "    </tr>\n",
       "    <tr>\n",
       "      <th>2014-10-06</th>\n",
       "      <td>CA-2014-134677</td>\n",
       "      <td>2014-10-10</td>\n",
       "      <td>Standard Class</td>\n",
       "      <td>XP-21865</td>\n",
       "      <td>Consumer</td>\n",
       "      <td>United States</td>\n",
       "      <td>San Diego</td>\n",
       "      <td>California</td>\n",
       "      <td>92024.0</td>\n",
       "      <td>TEC-AC-10001445</td>\n",
       "      <td>...</td>\n",
       "      <td>12</td>\n",
       "      <td>2</td>\n",
       "      <td>Imation USB 2.0 Swivel Flash Drive USB flash d...</td>\n",
       "      <td>Technology</td>\n",
       "      <td>Accessories</td>\n",
       "      <td>West</td>\n",
       "      <td>2014</td>\n",
       "      <td>10</td>\n",
       "      <td>low</td>\n",
       "      <td>NaN</td>\n",
       "    </tr>\n",
       "    <tr>\n",
       "      <th>2014-10-07</th>\n",
       "      <td>CA-2014-117429</td>\n",
       "      <td>2014-10-13</td>\n",
       "      <td>Standard Class</td>\n",
       "      <td>MR-17545</td>\n",
       "      <td>Home Office</td>\n",
       "      <td>United States</td>\n",
       "      <td>Philadelphia</td>\n",
       "      <td>Pennsylvania</td>\n",
       "      <td>19140.0</td>\n",
       "      <td>FUR-FU-10000222</td>\n",
       "      <td>...</td>\n",
       "      <td>6</td>\n",
       "      <td>4</td>\n",
       "      <td>Seth Thomas 16\" Steel Case Clock</td>\n",
       "      <td>Furniture</td>\n",
       "      <td>Furnishings</td>\n",
       "      <td>East</td>\n",
       "      <td>2014</td>\n",
       "      <td>10</td>\n",
       "      <td>low</td>\n",
       "      <td>0-20</td>\n",
       "    </tr>\n",
       "  </tbody>\n",
       "</table>\n",
       "<p>3 rows × 24 columns</p>\n",
       "</div>"
      ],
      "text/plain": [
       "                  order_id   ship_date shipping_method customer_id  \\\n",
       "order_date                                                           \n",
       "2014-10-03  CA-2014-153976  2014-10-08    Second Class    BP-11290   \n",
       "2014-10-06  CA-2014-134677  2014-10-10  Standard Class    XP-21865   \n",
       "2014-10-07  CA-2014-117429  2014-10-13  Standard Class    MR-17545   \n",
       "\n",
       "                segment        country          city         state  zip_code  \\\n",
       "order_date                                                                     \n",
       "2014-10-03     Consumer  United States      Evanston      Illinois   60201.0   \n",
       "2014-10-06     Consumer  United States     San Diego    California   92024.0   \n",
       "2014-10-07  Home Office  United States  Philadelphia  Pennsylvania   19140.0   \n",
       "\n",
       "                 product id  ...  category_id  region_id  \\\n",
       "order_date                   ...                           \n",
       "2014-10-03  FUR-CH-10002880  ...            2          3   \n",
       "2014-10-06  TEC-AC-10001445  ...           12          2   \n",
       "2014-10-07  FUR-FU-10000222  ...            6          4   \n",
       "\n",
       "                                                 product name    category  \\\n",
       "order_date                                                                  \n",
       "2014-10-03          Global High-Back Leather Tilter, Burgundy   Furniture   \n",
       "2014-10-06  Imation USB 2.0 Swivel Flash Drive USB flash d...  Technology   \n",
       "2014-10-07                   Seth Thomas 16\" Steel Case Clock   Furniture   \n",
       "\n",
       "            sub_category  region_name  year month discount_bin discount_level  \n",
       "order_date                                                                     \n",
       "2014-10-03        Chairs      Central  2014    10         high           0-20  \n",
       "2014-10-06   Accessories         West  2014    10          low            NaN  \n",
       "2014-10-07   Furnishings         East  2014    10          low           0-20  \n",
       "\n",
       "[3 rows x 24 columns]"
      ]
     },
     "execution_count": 48,
     "metadata": {},
     "output_type": "execute_result"
    }
   ],
   "source": [
    "#only get the subset for every year's Q4. \n",
    "oct_nov_dec = df[(df['month'] == 11) | (df['month'] == 12)|(df['month'] == 10)]\n",
    "oct_nov_dec.head(3)"
   ]
  },
  {
   "cell_type": "code",
   "execution_count": 90,
   "id": "c0dc9411",
   "metadata": {},
   "outputs": [],
   "source": [
    "#create the pivot table\n",
    "oct_nov_dec = nov_dec.groupby('year', as_index=False).agg({'sales': sum,\n",
    "                                                         'profit': sum,})"
   ]
  },
  {
   "cell_type": "code",
   "execution_count": 91,
   "id": "2c281eba",
   "metadata": {},
   "outputs": [
    {
     "data": {
      "text/html": [
       "<div>\n",
       "<style scoped>\n",
       "    .dataframe tbody tr th:only-of-type {\n",
       "        vertical-align: middle;\n",
       "    }\n",
       "\n",
       "    .dataframe tbody tr th {\n",
       "        vertical-align: top;\n",
       "    }\n",
       "\n",
       "    .dataframe thead th {\n",
       "        text-align: right;\n",
       "    }\n",
       "</style>\n",
       "<table border=\"1\" class=\"dataframe\">\n",
       "  <thead>\n",
       "    <tr style=\"text-align: right;\">\n",
       "      <th></th>\n",
       "      <th>year</th>\n",
       "      <th>sales</th>\n",
       "      <th>profit</th>\n",
       "    </tr>\n",
       "  </thead>\n",
       "  <tbody>\n",
       "    <tr>\n",
       "      <th>0</th>\n",
       "      <td>2014</td>\n",
       "      <td>36294.9195</td>\n",
       "      <td>5237.9934</td>\n",
       "    </tr>\n",
       "    <tr>\n",
       "      <th>1</th>\n",
       "      <td>2015</td>\n",
       "      <td>30874.6652</td>\n",
       "      <td>1723.0218</td>\n",
       "    </tr>\n",
       "    <tr>\n",
       "      <th>2</th>\n",
       "      <td>2016</td>\n",
       "      <td>31531.1040</td>\n",
       "      <td>6097.0994</td>\n",
       "    </tr>\n",
       "    <tr>\n",
       "      <th>3</th>\n",
       "      <td>2017</td>\n",
       "      <td>46935.7698</td>\n",
       "      <td>112.6743</td>\n",
       "    </tr>\n",
       "  </tbody>\n",
       "</table>\n",
       "</div>"
      ],
      "text/plain": [
       "   year       sales     profit\n",
       "0  2014  36294.9195  5237.9934\n",
       "1  2015  30874.6652  1723.0218\n",
       "2  2016  31531.1040  6097.0994\n",
       "3  2017  46935.7698   112.6743"
      ]
     },
     "execution_count": 91,
     "metadata": {},
     "output_type": "execute_result"
    }
   ],
   "source": [
    "oct_nov_dec"
   ]
  },
  {
   "cell_type": "code",
   "execution_count": 92,
   "id": "10e21ae9",
   "metadata": {},
   "outputs": [
    {
     "data": {
      "text/html": [
       "<div>\n",
       "<style scoped>\n",
       "    .dataframe tbody tr th:only-of-type {\n",
       "        vertical-align: middle;\n",
       "    }\n",
       "\n",
       "    .dataframe tbody tr th {\n",
       "        vertical-align: top;\n",
       "    }\n",
       "\n",
       "    .dataframe thead th {\n",
       "        text-align: right;\n",
       "    }\n",
       "</style>\n",
       "<table border=\"1\" class=\"dataframe\">\n",
       "  <thead>\n",
       "    <tr style=\"text-align: right;\">\n",
       "      <th></th>\n",
       "      <th>year</th>\n",
       "      <th>sales</th>\n",
       "      <th>profit</th>\n",
       "    </tr>\n",
       "  </thead>\n",
       "  <tbody>\n",
       "    <tr>\n",
       "      <th>0</th>\n",
       "      <td>NaN</td>\n",
       "      <td>NaN</td>\n",
       "      <td>NaN</td>\n",
       "    </tr>\n",
       "    <tr>\n",
       "      <th>1</th>\n",
       "      <td>0.000497</td>\n",
       "      <td>-0.149339</td>\n",
       "      <td>-0.671053</td>\n",
       "    </tr>\n",
       "    <tr>\n",
       "      <th>2</th>\n",
       "      <td>0.000496</td>\n",
       "      <td>0.021261</td>\n",
       "      <td>2.538608</td>\n",
       "    </tr>\n",
       "    <tr>\n",
       "      <th>3</th>\n",
       "      <td>0.000496</td>\n",
       "      <td>0.488555</td>\n",
       "      <td>-0.981520</td>\n",
       "    </tr>\n",
       "  </tbody>\n",
       "</table>\n",
       "</div>"
      ],
      "text/plain": [
       "       year     sales    profit\n",
       "0       NaN       NaN       NaN\n",
       "1  0.000497 -0.149339 -0.671053\n",
       "2  0.000496  0.021261  2.538608\n",
       "3  0.000496  0.488555 -0.981520"
      ]
     },
     "execution_count": 92,
     "metadata": {},
     "output_type": "execute_result"
    }
   ],
   "source": [
    "oct_nov_dec.pct_change()"
   ]
  },
  {
   "cell_type": "markdown",
   "id": "f5d98266",
   "metadata": {},
   "source": [
    "***Sales in Q4 keep increasing for two years.Compare to 2016, 2017's sales increased 48%***"
   ]
  },
  {
   "cell_type": "markdown",
   "id": "ef4703e9",
   "metadata": {},
   "source": [
    "## What's the discount distribution and where are those discount being applied? "
   ]
  },
  {
   "cell_type": "code",
   "execution_count": 27,
   "id": "59de8dd2",
   "metadata": {},
   "outputs": [
    {
     "data": {
      "text/plain": [
       "<matplotlib.legend.Legend at 0x7f97cfb09fd0>"
      ]
     },
     "execution_count": 27,
     "metadata": {},
     "output_type": "execute_result"
    },
    {
     "data": {
      "image/png": "[encoded data removed]",
      "text/plain": [
       "<Figure size 432x288 with 1 Axes>"
      ]
     },
     "metadata": {
      "needs_background": "light"
     },
     "output_type": "display_data"
    }
   ],
   "source": [
    "df['discount_bin'] = pd.qcut(df.discount, 2, labels=['low', 'high'])\n",
    "df.groupby('discount_bin').resample('m').quantity.sum().unstack(0).plot()\n",
    "plt.legend(loc=\"upper left\", bbox_to_anchor=(1, 1))\n"
   ]
  },
  {
   "cell_type": "markdown",
   "id": "456fbf4b",
   "metadata": {},
   "source": [
    "***Takeaways***"
   ]
  },
  {
   "cell_type": "code",
   "execution_count": 50,
   "id": "1c8b5e69",
   "metadata": {},
   "outputs": [
    {
     "data": {
      "text/plain": [
       "<matplotlib.legend.Legend at 0x7f97d0622130>"
      ]
     },
     "execution_count": 50,
     "metadata": {},
     "output_type": "execute_result"
    },
    {
     "data": {
      "image/png": "[encoded data removed]",
      "text/plain": [
       "<Figure size 432x288 with 1 Axes>"
      ]
     },
     "metadata": {
      "needs_background": "light"
     },
     "output_type": "display_data"
    }
   ],
   "source": [
    "the_list.groupby('sub_category').resample('m').discount.sum().unstack(0).plot()\n",
    "plt.legend(loc=\"upper left\", bbox_to_anchor=(1, 1))"
   ]
  },
  {
   "cell_type": "markdown",
   "id": "7fad0a41",
   "metadata": {},
   "source": [
    "***Takeaways***"
   ]
  },
  {
   "cell_type": "markdown",
   "id": "0eb12400",
   "metadata": {},
   "source": [
    "# Conclusion "
   ]
  },
  {
   "cell_type": "markdown",
   "id": "8ff165ec",
   "metadata": {},
   "source": [
    "# Key Findings From Exploration"
   ]
  },
  {
   "cell_type": "code",
   "execution_count": null,
   "id": "32babc09",
   "metadata": {},
   "outputs": [],
   "source": []
  },
  {
   "cell_type": "code",
   "execution_count": null,
   "id": "65f52158",
   "metadata": {},
   "outputs": [],
   "source": []
  },
  {
   "cell_type": "code",
   "execution_count": null,
   "id": "d5e8f9af",
   "metadata": {},
   "outputs": [],
   "source": []
  },
  {
   "cell_type": "markdown",
   "id": "7d309a1e",
   "metadata": {},
   "source": [
    "# Recommendation"
   ]
  },
  {
   "cell_type": "markdown",
   "id": "66775415",
   "metadata": {},
   "source": [
    "Focus on Technology sub-category and Phones and Chairs as they are highest selling and most profitable. Bundle them with the less profitable products such as Bookcases, Table and Chairs to offset the losses.\n"
   ]
  },
  {
   "cell_type": "code",
   "execution_count": null,
   "id": "8d733905",
   "metadata": {},
   "outputs": [],
   "source": []
  },
  {
   "cell_type": "markdown",
   "id": "9585845a",
   "metadata": {},
   "source": [
    "# Next Step"
   ]
  },
  {
   "cell_type": "code",
   "execution_count": null,
   "id": "72dcc2a7",
   "metadata": {},
   "outputs": [],
   "source": []
  }
 ],
 "metadata": {
  "kernelspec": {
   "display_name": "Python 3 (ipykernel)",
   "language": "python",
   "name": "python3"
  },
  "language_info": {
   "codemirror_mode": {
    "name": "ipython",
    "version": 3
   },
   "file_extension": ".py",
   "mimetype": "text/x-python",
   "name": "python",
   "nbconvert_exporter": "python",
   "pygments_lexer": "ipython3",
   "version": "3.9.7"
  }
 },
 "nbformat": 4,
 "nbformat_minor": 5
}
