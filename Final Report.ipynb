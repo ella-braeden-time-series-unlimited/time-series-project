{
 "cells": [
  {
   "cell_type": "code",
<<<<<<< HEAD
   "execution_count": 1,
   "id": "01a919ca",
=======
   "execution_count": 2,
   "id": "c6593341",
>>>>>>> 6e55f33e27190c901d6a1c0cf333b93eecdc3cb5
   "metadata": {},
   "outputs": [],
   "source": [
    "import os\n",
    "import pandas as pd\n",
    "import env\n",
    "import matplotlib.pyplot as plt\n",
    "import seaborn as sns\n",
    "import wrangle\n",
    "\n",
    "import numpy as np\n",
    "import pandas as pd\n",
    "\n",
    "from sklearn.model_selection import train_test_split\n",
    "from sklearn.impute import SimpleImputer\n",
    "\n",
    "from env import user, password, host\n",
    "database_url_base = f'mysql+pymysql://{env.user}:{env.password}@{env.host}/'"
   ]
  },
  {
   "cell_type": "markdown",
   "id": "80e5a268",
   "metadata": {},
   "source": [
    "# What should we market?\n",
    "Ella Xu | Braeden Wright   "
   ]
  },
  {
   "cell_type": "markdown",
   "id": "9b0c69dc",
   "metadata": {},
   "source": [
    "# Project Goal"
   ]
  },
  {
   "cell_type": "markdown",
   "id": "b3790382",
   "metadata": {},
   "source": [
<<<<<<< HEAD
    "We want to launch a new marketing campaign in the near future. The holidays are a time for celebration. For many, they also mean the return of the dreaded shopping season. With Black Friday and Cyber Monday right around the corner, it is important to start preparing now. The 4th quarter of the year is shoulder season for our online store, we would like to create a marketing plan for 2018. \n",
    "\n",
    "\n",
    "The threes Ps of marketing are the key factors that are involved in the marketing of a good or service. They are the product, profit, and promotion of a good or service. With our data analysis, our goal is draw a near accurate marketing strategy."
=======
    "### We are coming off of the worst end of year profits that we've had in four years, and are looking for a way to bounce back and finish the fiscal year strong.  With access to our previous data our goal is to review our past orders to determine what trends are present that we may wish to capitalize on, or possibly what opportunities we may be missing out on. \n",
    "\n",
    "### We will utilize three P's of marketing that are key indicators of a quality service. They are the product, price, and promotion of a good or service. With our data analysis, we will keep these in mind to determine what Product to market, what Prices best benefit the company, and what Promotion we may want to offer to improve our business going forward."
>>>>>>> 6e55f33e27190c901d6a1c0cf333b93eecdc3cb5
   ]
  },
  {
   "cell_type": "markdown",
   "id": "8eb8e9cd",
   "metadata": {},
   "source": [
    "# Planning\n",
    "* Setup repository environment (.gitignore, README.md)\n",
<<<<<<< HEAD
    "* Import and test my wrangle functions.\n",
    "* Clean superstore data from Codeup mySQL database via wrangle.py\n",
    "* Ask and answer questions about the superstore data.\n",
    "* Visually represent findings with charts. \n",
    "* Report conclusions and next steps in a presentation.\n",
=======
    "* Import and test wrangle functions(aquire).\n",
    "* Clean superstore data from Codeup mySQL database via wrangle.py(preperation)\n",
    "* Explore data for trends and correlations amoung features(exploration)\n",
    "* Ask and answer questions about the superstore data.(exploration)\n",
    "* Visually represent findings with charts. (modeling/delivery)\n",
    "* Report conclusions and next steps in a presentation.(delivering)\n",
>>>>>>> 6e55f33e27190c901d6a1c0cf333b93eecdc3cb5
    "\n",
    "\n",
    "# Executive Summary\n",
    "***We explored the data and discovered:***\n",
    "\n",
    "* Majority of profit comes from Office Supplies, Technology \n",
    "* Office Supply sell 4-to-1 compared to Technology, with Tech being 3x as profitable on avg.\n",
    "* Office Supplies had a steady growth over the past 4 years while our Tech has barely grown\n",
    "* Technology sales need to be better regulated, as large discounts applied to Machine Sales have dramatically impacted our overall profit more than once.\n",
    "\n",
    "\n",
    "***Recommandations:***\n",
    "\n",
    "* If our Technology Sales increased at even 50% the rate of our Office Supply Sales our profits would undoubtedly increase\n",
    "* A Marketing Push on Superstore Technology should help increase revenue\n",
    "* Limit the discounts available for Technology to no more than 20%\n",
    "\n",
    "***Next Step:***\n",
    "* Continue observations of Technology and push the growth of Tech Sales\n",
    "* There is potential to continue exploring the data to find what Technologies are more marketable to larger corporate offices\n"
   ]
  },
  {
   "cell_type": "markdown",
   "id": "54297e4d",
   "metadata": {},
   "source": [
    "# Acquire the data"
   ]
  },
  {
   "cell_type": "markdown",
   "id": "81758e73",
   "metadata": {},
   "source": [
    "To acquire the superstore data, we built a function to pull the superstore_db using a SQL query."
   ]
  },
  {
   "cell_type": "code",
<<<<<<< HEAD
   "execution_count": 2,
   "id": "e2e26ab8",
=======
   "execution_count": 4,
   "id": "6ed48e7d",
>>>>>>> 6e55f33e27190c901d6a1c0cf333b93eecdc3cb5
   "metadata": {},
   "outputs": [
    {
     "name": "stdout",
     "output_type": "stream",
     "text": [
      "Downloading data from SQL...\n",
      "Saving to .csv\n"
     ]
    },
    {
     "data": {
      "text/html": [
       "<div>\n",
       "<style scoped>\n",
       "    .dataframe tbody tr th:only-of-type {\n",
       "        vertical-align: middle;\n",
       "    }\n",
       "\n",
       "    .dataframe tbody tr th {\n",
       "        vertical-align: top;\n",
       "    }\n",
       "\n",
       "    .dataframe thead th {\n",
       "        text-align: right;\n",
       "    }\n",
       "</style>\n",
       "<table border=\"1\" class=\"dataframe\">\n",
       "  <thead>\n",
       "    <tr style=\"text-align: right;\">\n",
       "      <th></th>\n",
       "      <th>order_id</th>\n",
       "      <th>order_date</th>\n",
       "      <th>ship_date</th>\n",
       "      <th>shipping_method</th>\n",
       "      <th>customer_id</th>\n",
       "      <th>segment</th>\n",
       "      <th>country</th>\n",
       "      <th>city</th>\n",
       "      <th>state</th>\n",
       "      <th>zip_code</th>\n",
       "      <th>...</th>\n",
       "      <th>discount</th>\n",
       "      <th>profit</th>\n",
       "      <th>category_id</th>\n",
       "      <th>region_id</th>\n",
       "      <th>product name</th>\n",
       "      <th>category</th>\n",
       "      <th>sub_category</th>\n",
       "      <th>region_name</th>\n",
       "      <th>year</th>\n",
       "      <th>month</th>\n",
       "    </tr>\n",
       "  </thead>\n",
       "  <tbody>\n",
       "    <tr>\n",
       "      <th>0</th>\n",
       "      <td>CA-2016-152156</td>\n",
       "      <td>2016-11-08</td>\n",
       "      <td>2016-11-11</td>\n",
       "      <td>Second Class</td>\n",
       "      <td>CG-12520</td>\n",
       "      <td>Consumer</td>\n",
       "      <td>United States</td>\n",
       "      <td>Henderson</td>\n",
       "      <td>Kentucky</td>\n",
       "      <td>42420.0</td>\n",
       "      <td>...</td>\n",
       "      <td>0.0</td>\n",
       "      <td>41.9136</td>\n",
       "      <td>1</td>\n",
       "      <td>1</td>\n",
       "      <td>Bush Somerset Collection Bookcase</td>\n",
       "      <td>Furniture</td>\n",
       "      <td>Bookcases</td>\n",
       "      <td>South</td>\n",
       "      <td>2016</td>\n",
       "      <td>11</td>\n",
       "    </tr>\n",
       "    <tr>\n",
       "      <th>1</th>\n",
       "      <td>CA-2016-152156</td>\n",
       "      <td>2016-11-08</td>\n",
       "      <td>2016-11-11</td>\n",
       "      <td>Second Class</td>\n",
       "      <td>CG-12520</td>\n",
       "      <td>Consumer</td>\n",
       "      <td>United States</td>\n",
       "      <td>Henderson</td>\n",
       "      <td>Kentucky</td>\n",
       "      <td>42420.0</td>\n",
       "      <td>...</td>\n",
       "      <td>0.0</td>\n",
       "      <td>219.5820</td>\n",
       "      <td>2</td>\n",
       "      <td>1</td>\n",
       "      <td>Hon Deluxe Fabric Upholstered Stacking Chairs,...</td>\n",
       "      <td>Furniture</td>\n",
       "      <td>Chairs</td>\n",
       "      <td>South</td>\n",
       "      <td>2016</td>\n",
       "      <td>11</td>\n",
       "    </tr>\n",
       "    <tr>\n",
       "      <th>2</th>\n",
       "      <td>CA-2016-138688</td>\n",
       "      <td>2016-06-12</td>\n",
       "      <td>2016-06-16</td>\n",
       "      <td>Second Class</td>\n",
       "      <td>DV-13045</td>\n",
       "      <td>Corporate</td>\n",
       "      <td>United States</td>\n",
       "      <td>Los Angeles</td>\n",
       "      <td>California</td>\n",
       "      <td>90036.0</td>\n",
       "      <td>...</td>\n",
       "      <td>0.0</td>\n",
       "      <td>6.8714</td>\n",
       "      <td>3</td>\n",
       "      <td>2</td>\n",
       "      <td>Self-Adhesive Address Labels for Typewriters b...</td>\n",
       "      <td>Office Supplies</td>\n",
       "      <td>Labels</td>\n",
       "      <td>West</td>\n",
       "      <td>2016</td>\n",
       "      <td>6</td>\n",
       "    </tr>\n",
       "  </tbody>\n",
       "</table>\n",
       "<p>3 rows × 23 columns</p>\n",
       "</div>"
      ],
      "text/plain": [
       "         order_id order_date   ship_date shipping_method customer_id  \\\n",
       "0  CA-2016-152156 2016-11-08  2016-11-11    Second Class    CG-12520   \n",
       "1  CA-2016-152156 2016-11-08  2016-11-11    Second Class    CG-12520   \n",
       "2  CA-2016-138688 2016-06-12  2016-06-16    Second Class    DV-13045   \n",
       "\n",
       "     segment        country         city       state  zip_code  ... discount  \\\n",
       "0   Consumer  United States    Henderson    Kentucky   42420.0  ...      0.0   \n",
       "1   Consumer  United States    Henderson    Kentucky   42420.0  ...      0.0   \n",
       "2  Corporate  United States  Los Angeles  California   90036.0  ...      0.0   \n",
       "\n",
       "     profit  category_id  region_id  \\\n",
       "0   41.9136            1          1   \n",
       "1  219.5820            2          1   \n",
       "2    6.8714            3          2   \n",
       "\n",
       "                                        product name         category  \\\n",
       "0                  Bush Somerset Collection Bookcase        Furniture   \n",
       "1  Hon Deluxe Fabric Upholstered Stacking Chairs,...        Furniture   \n",
       "2  Self-Adhesive Address Labels for Typewriters b...  Office Supplies   \n",
       "\n",
       "   sub_category region_name  year month  \n",
       "0     Bookcases       South  2016    11  \n",
       "1        Chairs       South  2016    11  \n",
       "2        Labels        West  2016     6  \n",
       "\n",
       "[3 rows x 23 columns]"
      ]
     },
<<<<<<< HEAD
     "execution_count": 2,
=======
     "execution_count": 4,
>>>>>>> 6e55f33e27190c901d6a1c0cf333b93eecdc3cb5
     "metadata": {},
     "output_type": "execute_result"
    }
   ],
   "source": [
    "df= wrangle.wrangle_superstore()\n",
    "df.head(3)"
   ]
  },
  {
   "cell_type": "markdown",
   "id": "251d0cda",
   "metadata": {},
   "source": [
    "# Data Wrangle"
   ]
  },
  {
   "cell_type": "markdown",
   "id": "db38fb14",
   "metadata": {},
   "source": [
    "* Rename the columns to make it easy to read and code with.\n",
    "                'Order ID': 'order_id',\n",
    "                    'Order Date': 'order_date',\n",
    "                    'Ship Date': 'ship_date',\n",
    "                    'Customer ID': 'customer_id',\n",
    "                    'Postal Code': 'zip_code',\n",
    "                    'Category ID': 'category_id',\n",
    "                    'Region ID': 'region_id',\n",
    "                    'Region Name': 'region_name',\n",
    "                    'Ship Mode': 'shipping_method',\n",
    "                    'Sub-Category': 'sub_category'. \n",
    "                    \n",
    "* convert the columns name to lower case. \n",
    "* convert the order_date to datetime datatype. \n",
    "* Added year as a column. \n",
    "* Added month as column. \n",
    "* Set order_date to index. \n",
    "* Download cleaned data to a .csv"
   ]
  },
  {
   "cell_type": "markdown",
   "id": "1ae1c3e1",
   "metadata": {},
   "source": [
    "# Data Exploration "
   ]
  },
  {
   "cell_type": "markdown",
   "id": "75ae5b25",
   "metadata": {},
   "source": [
    "## Initial Questions\n",
    "* How much did the store make and sell between 2014 and 2017?\n",
    "\n",
    "* How was 2017 performance compared to previous years?\n",
    "\n",
    "* Which was the most profitable category? Sub-Category?\n",
    "\n",
    "* Overall Q4 Sales for the past three years? \n",
    "\n",
    "* What's the discount distribution and where are those discount being applied?\n",
    "\n",
    "* What value can we add for customers that is marketable without hurting profits?\n"
   ]
  },
  {
   "cell_type": "markdown",
   "id": "129996b7",
   "metadata": {},
   "source": [
    "## How much did the store make and sell between 2014 and 2017?"
   ]
  },
  {
   "cell_type": "code",
   "execution_count": 14,
   "id": "185a6944",
   "metadata": {},
   "outputs": [
    {
     "data": {
      "text/html": [
       "<div>\n",
       "<style scoped>\n",
       "    .dataframe tbody tr th:only-of-type {\n",
       "        vertical-align: middle;\n",
       "    }\n",
       "\n",
       "    .dataframe tbody tr th {\n",
       "        vertical-align: top;\n",
       "    }\n",
       "\n",
       "    .dataframe thead th {\n",
       "        text-align: right;\n",
       "    }\n",
       "</style>\n",
       "<table border=\"1\" class=\"dataframe\">\n",
       "  <thead>\n",
       "    <tr style=\"text-align: right;\">\n",
       "      <th></th>\n",
       "      <th>profit</th>\n",
       "      <th>sales</th>\n",
       "    </tr>\n",
       "    <tr>\n",
       "      <th>year</th>\n",
       "      <th></th>\n",
       "      <th></th>\n",
       "    </tr>\n",
       "  </thead>\n",
       "  <tbody>\n",
       "    <tr>\n",
       "      <th>2014</th>\n",
       "      <td>10041.2325</td>\n",
       "      <td>101075.5685</td>\n",
       "    </tr>\n",
       "    <tr>\n",
       "      <th>2015</th>\n",
       "      <td>10006.7669</td>\n",
       "      <td>92552.7542</td>\n",
       "    </tr>\n",
       "    <tr>\n",
       "      <th>2016</th>\n",
       "      <td>11225.3949</td>\n",
       "      <td>106836.2096</td>\n",
       "    </tr>\n",
       "    <tr>\n",
       "      <th>2017</th>\n",
       "      <td>6667.1350</td>\n",
       "      <td>96979.2931</td>\n",
       "    </tr>\n",
       "  </tbody>\n",
       "</table>\n",
       "</div>"
      ],
      "text/plain": [
       "          profit        sales\n",
       "year                         \n",
       "2014  10041.2325  101075.5685\n",
       "2015  10006.7669   92552.7542\n",
       "2016  11225.3949  106836.2096\n",
       "2017   6667.1350   96979.2931"
      ]
     },
     "execution_count": 14,
     "metadata": {},
     "output_type": "execute_result"
    }
   ],
   "source": [
    "#creating a pivot table to sum the sales and profit for each year. \n",
    "year_profit_sales=pd.pivot_table(data=df[['year','profit','sales']], \n",
    "                        index=['year'], \n",
    "                        values=['profit','sales'],\n",
    "                        aggfunc='sum')\n",
    "year_profit_sales"
   ]
  },
  {
   "cell_type": "code",
   "execution_count": 58,
   "id": "6b85f01a",
   "metadata": {},
   "outputs": [
    {
     "data": {
      "text/plain": [
       "<AxesSubplot:title={'center':'Year_performance'}, xlabel='category', ylabel='Maximum Sales'>"
      ]
     },
     "execution_count": 58,
     "metadata": {},
     "output_type": "execute_result"
    },
    {
     "data": {
      "image/png": "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\n",
      "text/plain": [
       "<Figure size 720x360 with 1 Axes>"
      ]
     },
     "metadata": {
      "needs_background": "light"
     },
     "output_type": "display_data"
    }
   ],
   "source": [
    "year_profit_sales.plot(kind='bar', title='Year_performance', ylabel='Maximum Sales',\n",
    "         xlabel='category', figsize=(10, 5))\n",
    "# Creating a bar plot to compare the profit vs sales. "
   ]
  },
  {
   "cell_type": "markdown",
   "id": "dc18338d",
   "metadata": {},
   "source": [
    "### Takeaways: looks like the sales and profit are not volitile, however 2017's profit has decreased, let's take a closer look. "
   ]
  },
  {
   "cell_type": "code",
   "execution_count": 59,
   "id": "b59c8465",
   "metadata": {},
   "outputs": [
    {
     "data": {
      "text/plain": [
       "year\n",
       "2014         NaN\n",
       "2015   -0.084321\n",
       "2016    0.154328\n",
       "2017   -0.092262\n",
       "Name: sales, dtype: float64"
      ]
     },
     "execution_count": 59,
     "metadata": {},
     "output_type": "execute_result"
    }
   ],
   "source": [
    "year_profit_sales.sales.pct_change()\n",
    "# looked up the percertage change compare to the last year. The profit is going down."
   ]
  },
  {
   "cell_type": "code",
   "execution_count": 18,
   "id": "19ee145f",
   "metadata": {},
   "outputs": [
    {
     "data": {
      "text/plain": [
       "year\n",
       "2014         NaN\n",
       "2015   -0.003432\n",
       "2016    0.121780\n",
       "2017   -0.406067\n",
       "Name: profit, dtype: float64"
      ]
     },
     "execution_count": 18,
     "metadata": {},
     "output_type": "execute_result"
    }
   ],
   "source": [
    "# looked up the percertage change compare to the last year. \n",
    "year_profit_sales.profit.pct_change()"
   ]
  },
  {
   "cell_type": "markdown",
   "id": "b0f5b859",
   "metadata": {},
   "source": [
<<<<<<< HEAD
    "***Our sales didn't increase from 2016 to 2017, decreased by 40%.***"
=======
    "***Overall sales are not increasing or decreasing.***"
>>>>>>> 6e55f33e27190c901d6a1c0cf333b93eecdc3cb5
   ]
  },
  {
   "cell_type": "code",
   "execution_count": 41,
   "id": "ca220665",
   "metadata": {},
   "outputs": [
    {
     "data": {
      "text/plain": [
       "<AxesSubplot:title={'center':'Month-to-Month Change in Sales'}, xlabel='Date By Month'>"
      ]
     },
     "execution_count": 41,
     "metadata": {},
     "output_type": "execute_result"
    },
    {
     "data": {
      "image/png": "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\n",
      "text/plain": [
       "<Figure size 432x288 with 1 Axes>"
      ]
     },
     "metadata": {
      "needs_background": "light"
     },
     "output_type": "display_data"
    }
   ],
   "source": [
    "# Difference in sales betwen month to month. \n",
    "df.resample('M').sales.mean().diff().plot(title='Month-to-Month Change in Sales', xlabel='Date By Month')"
   ]
  },
  {
   "cell_type": "markdown",
   "id": "6f4597b5",
   "metadata": {},
   "source": [
    "***Takeaways: The sales are not stable or increase all times***"
   ]
  },
  {
   "cell_type": "markdown",
   "id": "45d457ba",
   "metadata": {},
   "source": [
    "## Which was the most profitable sub-category? "
   ]
  },
  {
   "cell_type": "code",
   "execution_count": 61,
   "id": "4bdf807d",
   "metadata": {},
   "outputs": [
    {
     "data": {
      "text/html": [
       "<div>\n",
       "<style scoped>\n",
       "    .dataframe tbody tr th:only-of-type {\n",
       "        vertical-align: middle;\n",
       "    }\n",
       "\n",
       "    .dataframe tbody tr th {\n",
       "        vertical-align: top;\n",
       "    }\n",
       "\n",
       "    .dataframe thead th {\n",
       "        text-align: right;\n",
       "    }\n",
       "</style>\n",
       "<table border=\"1\" class=\"dataframe\">\n",
       "  <thead>\n",
       "    <tr style=\"text-align: right;\">\n",
       "      <th></th>\n",
       "      <th></th>\n",
       "      <th>profit</th>\n",
       "      <th>sales</th>\n",
       "    </tr>\n",
       "    <tr>\n",
       "      <th>category</th>\n",
       "      <th>sub_category</th>\n",
       "      <th></th>\n",
       "      <th></th>\n",
       "    </tr>\n",
       "  </thead>\n",
       "  <tbody>\n",
       "    <tr>\n",
       "      <th rowspan=\"4\" valign=\"top\">Furniture</th>\n",
       "      <th>Bookcases</th>\n",
       "      <td>-2267.7776</td>\n",
       "      <td>20280.1429</td>\n",
       "    </tr>\n",
       "    <tr>\n",
       "      <th>Chairs</th>\n",
       "      <td>4306.3499</td>\n",
       "      <td>54409.2150</td>\n",
       "    </tr>\n",
       "    <tr>\n",
       "      <th>Furnishings</th>\n",
       "      <td>2124.3447</td>\n",
       "      <td>16442.0180</td>\n",
       "    </tr>\n",
       "    <tr>\n",
       "      <th>Tables</th>\n",
       "      <td>-4786.1621</td>\n",
       "      <td>48444.2095</td>\n",
       "    </tr>\n",
       "    <tr>\n",
       "      <th rowspan=\"9\" valign=\"top\">Office Supplies</th>\n",
       "      <th>Appliances</th>\n",
       "      <td>2776.4985</td>\n",
       "      <td>17415.0360</td>\n",
       "    </tr>\n",
       "    <tr>\n",
       "      <th>Art</th>\n",
       "      <td>1336.4246</td>\n",
       "      <td>6346.8080</td>\n",
       "    </tr>\n",
       "    <tr>\n",
       "      <th>Binders</th>\n",
       "      <td>4062.6403</td>\n",
       "      <td>28108.2820</td>\n",
       "    </tr>\n",
       "    <tr>\n",
       "      <th>Envelopes</th>\n",
       "      <td>1394.5297</td>\n",
       "      <td>3349.8260</td>\n",
       "    </tr>\n",
       "    <tr>\n",
       "      <th>Fasteners</th>\n",
       "      <td>215.6470</td>\n",
       "      <td>632.6640</td>\n",
       "    </tr>\n",
       "    <tr>\n",
       "      <th>Labels</th>\n",
       "      <td>1544.5261</td>\n",
       "      <td>3415.5860</td>\n",
       "    </tr>\n",
       "    <tr>\n",
       "      <th>Paper</th>\n",
       "      <td>5464.4993</td>\n",
       "      <td>12671.9140</td>\n",
       "    </tr>\n",
       "    <tr>\n",
       "      <th>Storage</th>\n",
       "      <td>2771.6621</td>\n",
       "      <td>37373.6200</td>\n",
       "    </tr>\n",
       "    <tr>\n",
       "      <th>Supplies</th>\n",
       "      <td>-253.9979</td>\n",
       "      <td>3109.9440</td>\n",
       "    </tr>\n",
       "    <tr>\n",
       "      <th rowspan=\"4\" valign=\"top\">Technology</th>\n",
       "      <th>Accessories</th>\n",
       "      <td>7786.3621</td>\n",
       "      <td>30675.6040</td>\n",
       "    </tr>\n",
       "    <tr>\n",
       "      <th>Copiers</th>\n",
       "      <td>5598.3914</td>\n",
       "      <td>14509.7220</td>\n",
       "    </tr>\n",
       "    <tr>\n",
       "      <th>Machines</th>\n",
       "      <td>-680.6722</td>\n",
       "      <td>44215.5200</td>\n",
       "    </tr>\n",
       "    <tr>\n",
       "      <th>Phones</th>\n",
       "      <td>6547.2634</td>\n",
       "      <td>56043.7140</td>\n",
       "    </tr>\n",
       "  </tbody>\n",
       "</table>\n",
       "</div>"
      ],
      "text/plain": [
       "                                 profit       sales\n",
       "category        sub_category                       \n",
       "Furniture       Bookcases    -2267.7776  20280.1429\n",
       "                Chairs        4306.3499  54409.2150\n",
       "                Furnishings   2124.3447  16442.0180\n",
       "                Tables       -4786.1621  48444.2095\n",
       "Office Supplies Appliances    2776.4985  17415.0360\n",
       "                Art           1336.4246   6346.8080\n",
       "                Binders       4062.6403  28108.2820\n",
       "                Envelopes     1394.5297   3349.8260\n",
       "                Fasteners      215.6470    632.6640\n",
       "                Labels        1544.5261   3415.5860\n",
       "                Paper         5464.4993  12671.9140\n",
       "                Storage       2771.6621  37373.6200\n",
       "                Supplies      -253.9979   3109.9440\n",
       "Technology      Accessories   7786.3621  30675.6040\n",
       "                Copiers       5598.3914  14509.7220\n",
       "                Machines      -680.6722  44215.5200\n",
       "                Phones        6547.2634  56043.7140"
      ]
     },
     "execution_count": 61,
     "metadata": {},
     "output_type": "execute_result"
    }
   ],
   "source": [
    "df_Category_profit = pd.pivot_table(data=df[['category','sub_category','profit','sales']], \n",
    "                        index=['category','sub_category'], \n",
    "                        values=['profit','sales'],\n",
    "                        aggfunc='sum')\n",
    "\n",
    "df_Category_profit\n",
    "#create a category pivot table to show the most profitable category and \n",
    "#sub-category. "
   ]
  },
  {
   "cell_type": "code",
   "execution_count": 78,
   "id": "3fc280b6",
   "metadata": {},
   "outputs": [
    {
     "data": {
      "text/plain": [
       "<AxesSubplot:title={'center':'Category vs Maximum Sales'}, xlabel='category', ylabel='Maximum Sales'>"
      ]
     },
     "execution_count": 78,
     "metadata": {},
     "output_type": "execute_result"
    },
    {
     "data": {
      "image/png": "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\n",
      "text/plain": [
       "<Figure size 720x360 with 1 Axes>"
      ]
     },
     "metadata": {
      "needs_background": "light"
     },
     "output_type": "display_data"
    }
   ],
   "source": [
    "#Just polot all items and see if there are anyhing outstanding. \n",
    "df_Category_profit.plot(kind='bar', title='Category vs Maximum Sales', ylabel='Maximum Sales',\n",
    "         xlabel='category', figsize=(10, 5))"
   ]
  },
  {
   "cell_type": "markdown",
   "id": "8dd49550",
   "metadata": {},
   "source": [
    "***Takeaways: looks like the accessories, coipers and phones, papers are top profitable items***"
   ]
  },
  {
   "cell_type": "code",
   "execution_count": 45,
   "id": "a45fafa0",
   "metadata": {},
   "outputs": [
    {
     "data": {
      "text/plain": [
       "sub_category\n",
       "Copiers        180.593271\n",
       "Accessories     16.357904\n",
       "Chairs          11.702038\n",
       "Phones          10.733219\n",
       "Appliances      10.096358\n",
       "dtype: float64"
      ]
     },
     "execution_count": 45,
     "metadata": {},
     "output_type": "execute_result"
    }
   ],
   "source": [
    "# We would look at the avg profit_per item_sold. \n",
    "Avg_profit_per_item_sold = (df.groupby('sub_category')['profit'].sum()) / (df.groupby('sub_category')['quantity'].sum())\n",
    "Avg_profit_per_item_sold.sort_values(ascending=False).head()"
   ]
  },
  {
   "cell_type": "code",
   "execution_count": 54,
   "id": "70c2ce92",
   "metadata": {},
   "outputs": [
    {
     "data": {
      "text/plain": [
       "sub_category\n",
       "Binders        1007.0\n",
       "Paper           823.0\n",
       "Furnishings     616.0\n",
       "Phones          610.0\n",
       "Storage         584.0\n",
       "Art             553.0\n",
       "Accessories     476.0\n",
       "Chairs          368.0\n",
       "Name: quantity, dtype: float64"
      ]
     },
     "execution_count": 54,
     "metadata": {},
     "output_type": "execute_result"
    }
   ],
   "source": [
    "#We would like to see the popularity of each sub category. \n",
    "df.groupby('sub_category')['quantity'].sum().sort_values(ascending=False).head(8)"
   ]
  },
  {
   "cell_type": "markdown",
   "id": "21b8858b",
   "metadata": {},
   "source": [
    "***Takeaways: When we look at the avg profit per item sold, we can see copiers and accessories are the top two sub categories. Surprise to find out that we have only sold 31 copiers but the profit per item are the top 1.***"
   ]
  },
  {
   "cell_type": "markdown",
   "id": "3131c385",
   "metadata": {},
   "source": [
    "## What item / discount is responsible for the dip in profit for 2017?"
   ]
  },
  {
   "cell_type": "code",
   "execution_count": 53,
   "id": "ed4b4cd0",
   "metadata": {},
   "outputs": [
    {
     "data": {
      "text/plain": [
       "Text(0, 0.5, 'Quantity')"
      ]
     },
     "execution_count": 53,
     "metadata": {},
     "output_type": "execute_result"
    },
    {
     "data": {
      "image/png": "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\n",
      "text/plain": [
       "<Figure size 432x288 with 1 Axes>"
      ]
     },
     "metadata": {
      "needs_background": "light"
     },
     "output_type": "display_data"
    }
   ],
   "source": [
    "#df = df.set_index('order_date').sort_index()\n",
    "   \n",
    "df.groupby('category').resample('m').quantity.sum().unstack(0).plot()\n",
    "plt.title('Quantity of Each Category Over Time')\n",
    "plt.ylabel('Quantity')"
   ]
  },
  {
   "cell_type": "markdown",
   "id": "0f14a0bb",
   "metadata": {},
   "source": [
    "***Takeways:Office Supplies had a steady growth over the past 4 years while our Tech has barely grown.***"
   ]
  },
  {
   "cell_type": "markdown",
   "id": "d6d86885",
   "metadata": {},
   "source": [
    "## How was 2017 Q4 performance?"
   ]
  },
  {
   "cell_type": "code",
   "execution_count": 75,
   "id": "0909a746",
   "metadata": {},
   "outputs": [],
   "source": [
    "#Creating a subset for the year of 2017 Q4. \n",
    "oct_nov_dec_2017 = df[((df['month'] == 11) | (df['month'] == 12) | (df['month'] == 10))& (df['year'] == 2017)]"
   ]
  },
  {
   "cell_type": "code",
   "execution_count": 76,
   "id": "0343534c",
   "metadata": {},
   "outputs": [
    {
     "data": {
      "text/html": [
       "<div>\n",
       "<style scoped>\n",
       "    .dataframe tbody tr th:only-of-type {\n",
       "        vertical-align: middle;\n",
       "    }\n",
       "\n",
       "    .dataframe tbody tr th {\n",
       "        vertical-align: top;\n",
       "    }\n",
       "\n",
       "    .dataframe thead th {\n",
       "        text-align: right;\n",
       "    }\n",
       "</style>\n",
       "<table border=\"1\" class=\"dataframe\">\n",
       "  <thead>\n",
       "    <tr style=\"text-align: right;\">\n",
       "      <th></th>\n",
       "      <th></th>\n",
       "      <th></th>\n",
       "      <th>profit</th>\n",
       "      <th>sales</th>\n",
       "    </tr>\n",
       "    <tr>\n",
       "      <th>category</th>\n",
       "      <th>sub-category</th>\n",
       "      <th>discount</th>\n",
       "      <th></th>\n",
       "      <th></th>\n",
       "    </tr>\n",
       "  </thead>\n",
       "  <tbody>\n",
       "    <tr>\n",
       "      <th rowspan=\"14\" valign=\"top\">Furniture</th>\n",
       "      <th rowspan=\"3\" valign=\"top\">Bookcases</th>\n",
       "      <th>0.15</th>\n",
       "      <td>4.2882</td>\n",
       "      <td>1764.3280</td>\n",
       "    </tr>\n",
       "    <tr>\n",
       "      <th>0.20</th>\n",
       "      <td>16.9172</td>\n",
       "      <td>515.1200</td>\n",
       "    </tr>\n",
       "    <tr>\n",
       "      <th>0.32</th>\n",
       "      <td>-11.5960</td>\n",
       "      <td>78.8528</td>\n",
       "    </tr>\n",
       "    <tr>\n",
       "      <th rowspan=\"4\" valign=\"top\">Chairs</th>\n",
       "      <th>0.00</th>\n",
       "      <td>226.9644</td>\n",
       "      <td>872.9400</td>\n",
       "    </tr>\n",
       "    <tr>\n",
       "      <th>0.10</th>\n",
       "      <td>575.7010</td>\n",
       "      <td>3362.1300</td>\n",
       "    </tr>\n",
       "    <tr>\n",
       "      <th>0.20</th>\n",
       "      <td>-67.7057</td>\n",
       "      <td>2848.5040</td>\n",
       "    </tr>\n",
       "    <tr>\n",
       "      <th>0.30</th>\n",
       "      <td>-27.2840</td>\n",
       "      <td>318.2900</td>\n",
       "    </tr>\n",
       "    <tr>\n",
       "      <th rowspan=\"3\" valign=\"top\">Furnishings</th>\n",
       "      <th>0.00</th>\n",
       "      <td>426.0018</td>\n",
       "      <td>1272.1800</td>\n",
       "    </tr>\n",
       "    <tr>\n",
       "      <th>0.20</th>\n",
       "      <td>92.0865</td>\n",
       "      <td>1896.2880</td>\n",
       "    </tr>\n",
       "    <tr>\n",
       "      <th>0.60</th>\n",
       "      <td>-19.8178</td>\n",
       "      <td>25.7000</td>\n",
       "    </tr>\n",
       "    <tr>\n",
       "      <th rowspan=\"4\" valign=\"top\">Tables</th>\n",
       "      <th>0.00</th>\n",
       "      <td>116.8720</td>\n",
       "      <td>1669.6000</td>\n",
       "    </tr>\n",
       "    <tr>\n",
       "      <th>0.20</th>\n",
       "      <td>-112.9527</td>\n",
       "      <td>1004.0240</td>\n",
       "    </tr>\n",
       "    <tr>\n",
       "      <th>0.40</th>\n",
       "      <td>-695.4264</td>\n",
       "      <td>2349.6840</td>\n",
       "    </tr>\n",
       "    <tr>\n",
       "      <th>0.50</th>\n",
       "      <td>-604.7148</td>\n",
       "      <td>938.1700</td>\n",
       "    </tr>\n",
       "    <tr>\n",
       "      <th rowspan=\"20\" valign=\"top\">Office Supplies</th>\n",
       "      <th rowspan=\"3\" valign=\"top\">Appliances</th>\n",
       "      <th>0.00</th>\n",
       "      <td>1323.0513</td>\n",
       "      <td>4552.7600</td>\n",
       "    </tr>\n",
       "    <tr>\n",
       "      <th>0.20</th>\n",
       "      <td>18.1556</td>\n",
       "      <td>198.5920</td>\n",
       "    </tr>\n",
       "    <tr>\n",
       "      <th>0.80</th>\n",
       "      <td>-203.6754</td>\n",
       "      <td>75.6080</td>\n",
       "    </tr>\n",
       "    <tr>\n",
       "      <th rowspan=\"2\" valign=\"top\">Art</th>\n",
       "      <th>0.00</th>\n",
       "      <td>134.7135</td>\n",
       "      <td>407.2700</td>\n",
       "    </tr>\n",
       "    <tr>\n",
       "      <th>0.20</th>\n",
       "      <td>26.7015</td>\n",
       "      <td>312.2320</td>\n",
       "    </tr>\n",
       "    <tr>\n",
       "      <th rowspan=\"4\" valign=\"top\">Binders</th>\n",
       "      <th>0.00</th>\n",
       "      <td>289.7814</td>\n",
       "      <td>613.6200</td>\n",
       "    </tr>\n",
       "    <tr>\n",
       "      <th>0.20</th>\n",
       "      <td>290.6189</td>\n",
       "      <td>861.6720</td>\n",
       "    </tr>\n",
       "    <tr>\n",
       "      <th>0.70</th>\n",
       "      <td>-38.7557</td>\n",
       "      <td>56.8890</td>\n",
       "    </tr>\n",
       "    <tr>\n",
       "      <th>0.80</th>\n",
       "      <td>-34.0224</td>\n",
       "      <td>19.5840</td>\n",
       "    </tr>\n",
       "    <tr>\n",
       "      <th rowspan=\"2\" valign=\"top\">Envelopes</th>\n",
       "      <th>0.00</th>\n",
       "      <td>7.4872</td>\n",
       "      <td>15.2800</td>\n",
       "    </tr>\n",
       "    <tr>\n",
       "      <th>0.20</th>\n",
       "      <td>21.5910</td>\n",
       "      <td>57.5760</td>\n",
       "    </tr>\n",
       "    <tr>\n",
       "      <th rowspan=\"2\" valign=\"top\">Fasteners</th>\n",
       "      <th>0.00</th>\n",
       "      <td>24.0523</td>\n",
       "      <td>69.2100</td>\n",
       "    </tr>\n",
       "    <tr>\n",
       "      <th>0.20</th>\n",
       "      <td>2.5707</td>\n",
       "      <td>10.8240</td>\n",
       "    </tr>\n",
       "    <tr>\n",
       "      <th rowspan=\"2\" valign=\"top\">Labels</th>\n",
       "      <th>0.00</th>\n",
       "      <td>77.6544</td>\n",
       "      <td>163.2100</td>\n",
       "    </tr>\n",
       "    <tr>\n",
       "      <th>0.20</th>\n",
       "      <td>20.9670</td>\n",
       "      <td>58.9600</td>\n",
       "    </tr>\n",
       "    <tr>\n",
       "      <th rowspan=\"2\" valign=\"top\">Paper</th>\n",
       "      <th>0.00</th>\n",
       "      <td>289.9117</td>\n",
       "      <td>609.6000</td>\n",
       "    </tr>\n",
       "    <tr>\n",
       "      <th>0.20</th>\n",
       "      <td>131.9049</td>\n",
       "      <td>410.7280</td>\n",
       "    </tr>\n",
       "    <tr>\n",
       "      <th rowspan=\"2\" valign=\"top\">Storage</th>\n",
       "      <th>0.00</th>\n",
       "      <td>653.8787</td>\n",
       "      <td>2996.5200</td>\n",
       "    </tr>\n",
       "    <tr>\n",
       "      <th>0.20</th>\n",
       "      <td>2.0843</td>\n",
       "      <td>1803.9840</td>\n",
       "    </tr>\n",
       "    <tr>\n",
       "      <th>Supplies</th>\n",
       "      <th>0.20</th>\n",
       "      <td>0.5004</td>\n",
       "      <td>6.6720</td>\n",
       "    </tr>\n",
       "    <tr>\n",
       "      <th rowspan=\"8\" valign=\"top\">Technology</th>\n",
       "      <th rowspan=\"2\" valign=\"top\">Accessories</th>\n",
       "      <th>0.00</th>\n",
       "      <td>340.4027</td>\n",
       "      <td>953.9400</td>\n",
       "    </tr>\n",
       "    <tr>\n",
       "      <th>0.20</th>\n",
       "      <td>-15.0187</td>\n",
       "      <td>328.2640</td>\n",
       "    </tr>\n",
       "    <tr>\n",
       "      <th>Copiers</th>\n",
       "      <th>0.20</th>\n",
       "      <td>434.9913</td>\n",
       "      <td>1199.9760</td>\n",
       "    </tr>\n",
       "    <tr>\n",
       "      <th rowspan=\"2\" valign=\"top\">Machines</th>\n",
       "      <th>0.50</th>\n",
       "      <td>-3839.9904</td>\n",
       "      <td>7999.9800</td>\n",
       "    </tr>\n",
       "    <tr>\n",
       "      <th>0.70</th>\n",
       "      <td>-63.9960</td>\n",
       "      <td>95.9940</td>\n",
       "    </tr>\n",
       "    <tr>\n",
       "      <th rowspan=\"3\" valign=\"top\">Phones</th>\n",
       "      <th>0.00</th>\n",
       "      <td>45.5906</td>\n",
       "      <td>398.6900</td>\n",
       "    </tr>\n",
       "    <tr>\n",
       "      <th>0.20</th>\n",
       "      <td>333.4246</td>\n",
       "      <td>3092.0560</td>\n",
       "    </tr>\n",
       "    <tr>\n",
       "      <th>0.40</th>\n",
       "      <td>-81.2348</td>\n",
       "      <td>650.2680</td>\n",
       "    </tr>\n",
       "  </tbody>\n",
       "</table>\n",
       "</div>"
      ],
      "text/plain": [
       "                                          profit      sales\n",
       "category        sub-category discount                      \n",
       "Furniture       Bookcases    0.15         4.2882  1764.3280\n",
       "                             0.20        16.9172   515.1200\n",
       "                             0.32       -11.5960    78.8528\n",
       "                Chairs       0.00       226.9644   872.9400\n",
       "                             0.10       575.7010  3362.1300\n",
       "                             0.20       -67.7057  2848.5040\n",
       "                             0.30       -27.2840   318.2900\n",
       "                Furnishings  0.00       426.0018  1272.1800\n",
       "                             0.20        92.0865  1896.2880\n",
       "                             0.60       -19.8178    25.7000\n",
       "                Tables       0.00       116.8720  1669.6000\n",
       "                             0.20      -112.9527  1004.0240\n",
       "                             0.40      -695.4264  2349.6840\n",
       "                             0.50      -604.7148   938.1700\n",
       "Office Supplies Appliances   0.00      1323.0513  4552.7600\n",
       "                             0.20        18.1556   198.5920\n",
       "                             0.80      -203.6754    75.6080\n",
       "                Art          0.00       134.7135   407.2700\n",
       "                             0.20        26.7015   312.2320\n",
       "                Binders      0.00       289.7814   613.6200\n",
       "                             0.20       290.6189   861.6720\n",
       "                             0.70       -38.7557    56.8890\n",
       "                             0.80       -34.0224    19.5840\n",
       "                Envelopes    0.00         7.4872    15.2800\n",
       "                             0.20        21.5910    57.5760\n",
       "                Fasteners    0.00        24.0523    69.2100\n",
       "                             0.20         2.5707    10.8240\n",
       "                Labels       0.00        77.6544   163.2100\n",
       "                             0.20        20.9670    58.9600\n",
       "                Paper        0.00       289.9117   609.6000\n",
       "                             0.20       131.9049   410.7280\n",
       "                Storage      0.00       653.8787  2996.5200\n",
       "                             0.20         2.0843  1803.9840\n",
       "                Supplies     0.20         0.5004     6.6720\n",
       "Technology      Accessories  0.00       340.4027   953.9400\n",
       "                             0.20       -15.0187   328.2640\n",
       "                Copiers      0.20       434.9913  1199.9760\n",
       "                Machines     0.50     -3839.9904  7999.9800\n",
       "                             0.70       -63.9960    95.9940\n",
       "                Phones       0.00        45.5906   398.6900\n",
       "                             0.20       333.4246  3092.0560\n",
       "                             0.40       -81.2348   650.2680"
      ]
     },
     "execution_count": 76,
     "metadata": {},
     "output_type": "execute_result"
    }
   ],
   "source": [
    "pd.pivot_table(data=oct_nov_dec_2017[['category','sub-category','discount','profit','sales']], \n",
    "                        index=['category','sub-category','discount'], \n",
    "                        values=['profit','sales'],\n",
    "                        aggfunc='sum')\n",
    "# creating the pivot table to see id there any categories that are lossing money. "
   ]
  },
  {
   "cell_type": "markdown",
   "id": "f76e65f8",
   "metadata": {},
   "source": [
    "***Takeaway: Machines are taking too much discount, 50% and 70% *** "
   ]
  },
  {
   "cell_type": "code",
   "execution_count": null,
   "id": "4a08cbd7",
   "metadata": {},
   "outputs": [],
   "source": [
    "df = df.set_index('order_date').sort_index()"
   ]
  },
  {
   "cell_type": "code",
   "execution_count": 6,
   "id": "1c3457a8",
   "metadata": {},
   "outputs": [
    {
     "data": {
      "text/plain": [
       "Text(0, 0.5, 'Profit')"
      ]
     },
     "execution_count": 6,
     "metadata": {},
     "output_type": "execute_result"
    },
    {
     "data": {
      "image/png": "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\n",
      "text/plain": [
       "<Figure size 432x288 with 1 Axes>"
      ]
     },
     "metadata": {
      "needs_background": "light"
     },
     "output_type": "display_data"
    }
   ],
   "source": [
    "the_list = df[df['sub_category'] != 'Paper']\n",
    "the_list = the_list[the_list['sub_category'] != 'Supplies']\n",
    "the_list = the_list[the_list['sub_category'] != 'Bookcases']\n",
    "the_list = the_list[the_list['sub_category'] != 'Fasteners']\n",
    "the_list = the_list[the_list['sub_category'] != 'Tables']\n",
    "the_list = the_list[the_list['sub_category'] != 'Labels']\n",
    "the_list = the_list[the_list['sub_category'] != 'Art']\n",
    "the_list = the_list[the_list['sub_category'] != 'Storage']\n",
    "the_list = the_list[the_list['sub_category'] != 'Furnishings']\n",
    "the_list.groupby('sub_category').resample('m').profit.sum().unstack(0).plot()\n",
    "plt.legend(loc=\"upper left\", bbox_to_anchor=(1, 1))\n",
    "plt.title('Profit vs Product')\n",
    "plt.ylabel('Profit')"
   ]
  },
  {
   "cell_type": "markdown",
   "id": "50062139",
   "metadata": {},
   "source": [
    "***Takeaways: This visual also shows machines are lossing profit***"
   ]
  },
  {
   "cell_type": "markdown",
   "id": "e3086257",
   "metadata": {},
   "source": [
    "## Overall Q4 Sales for the past three years. "
   ]
  },
  {
   "cell_type": "code",
   "execution_count": 48,
   "id": "6f4e38a7",
   "metadata": {},
   "outputs": [
    {
     "data": {
      "text/html": [
       "<div>\n",
       "<style scoped>\n",
       "    .dataframe tbody tr th:only-of-type {\n",
       "        vertical-align: middle;\n",
       "    }\n",
       "\n",
       "    .dataframe tbody tr th {\n",
       "        vertical-align: top;\n",
       "    }\n",
       "\n",
       "    .dataframe thead th {\n",
       "        text-align: right;\n",
       "    }\n",
       "</style>\n",
       "<table border=\"1\" class=\"dataframe\">\n",
       "  <thead>\n",
       "    <tr style=\"text-align: right;\">\n",
       "      <th></th>\n",
       "      <th>order_id</th>\n",
       "      <th>ship_date</th>\n",
       "      <th>shipping_method</th>\n",
       "      <th>customer_id</th>\n",
       "      <th>segment</th>\n",
       "      <th>country</th>\n",
       "      <th>city</th>\n",
       "      <th>state</th>\n",
       "      <th>zip_code</th>\n",
       "      <th>product id</th>\n",
       "      <th>...</th>\n",
       "      <th>category_id</th>\n",
       "      <th>region_id</th>\n",
       "      <th>product name</th>\n",
       "      <th>category</th>\n",
       "      <th>sub_category</th>\n",
       "      <th>region_name</th>\n",
       "      <th>year</th>\n",
       "      <th>month</th>\n",
       "      <th>discount_bin</th>\n",
       "      <th>discount_level</th>\n",
       "    </tr>\n",
       "    <tr>\n",
       "      <th>order_date</th>\n",
       "      <th></th>\n",
       "      <th></th>\n",
       "      <th></th>\n",
       "      <th></th>\n",
       "      <th></th>\n",
       "      <th></th>\n",
       "      <th></th>\n",
       "      <th></th>\n",
       "      <th></th>\n",
       "      <th></th>\n",
       "      <th></th>\n",
       "      <th></th>\n",
       "      <th></th>\n",
       "      <th></th>\n",
       "      <th></th>\n",
       "      <th></th>\n",
       "      <th></th>\n",
       "      <th></th>\n",
       "      <th></th>\n",
       "      <th></th>\n",
       "      <th></th>\n",
       "    </tr>\n",
       "  </thead>\n",
       "  <tbody>\n",
       "    <tr>\n",
       "      <th>2014-10-03</th>\n",
       "      <td>CA-2014-153976</td>\n",
       "      <td>2014-10-08</td>\n",
       "      <td>Second Class</td>\n",
       "      <td>BP-11290</td>\n",
       "      <td>Consumer</td>\n",
       "      <td>United States</td>\n",
       "      <td>Evanston</td>\n",
       "      <td>Illinois</td>\n",
       "      <td>60201.0</td>\n",
       "      <td>FUR-CH-10002880</td>\n",
       "      <td>...</td>\n",
       "      <td>2</td>\n",
       "      <td>3</td>\n",
       "      <td>Global High-Back Leather Tilter, Burgundy</td>\n",
       "      <td>Furniture</td>\n",
       "      <td>Chairs</td>\n",
       "      <td>Central</td>\n",
       "      <td>2014</td>\n",
       "      <td>10</td>\n",
       "      <td>high</td>\n",
       "      <td>0-20</td>\n",
       "    </tr>\n",
       "    <tr>\n",
       "      <th>2014-10-06</th>\n",
       "      <td>CA-2014-134677</td>\n",
       "      <td>2014-10-10</td>\n",
       "      <td>Standard Class</td>\n",
       "      <td>XP-21865</td>\n",
       "      <td>Consumer</td>\n",
       "      <td>United States</td>\n",
       "      <td>San Diego</td>\n",
       "      <td>California</td>\n",
       "      <td>92024.0</td>\n",
       "      <td>TEC-AC-10001445</td>\n",
       "      <td>...</td>\n",
       "      <td>12</td>\n",
       "      <td>2</td>\n",
       "      <td>Imation USB 2.0 Swivel Flash Drive USB flash d...</td>\n",
       "      <td>Technology</td>\n",
       "      <td>Accessories</td>\n",
       "      <td>West</td>\n",
       "      <td>2014</td>\n",
       "      <td>10</td>\n",
       "      <td>low</td>\n",
       "      <td>NaN</td>\n",
       "    </tr>\n",
       "    <tr>\n",
       "      <th>2014-10-07</th>\n",
       "      <td>CA-2014-117429</td>\n",
       "      <td>2014-10-13</td>\n",
       "      <td>Standard Class</td>\n",
       "      <td>MR-17545</td>\n",
       "      <td>Home Office</td>\n",
       "      <td>United States</td>\n",
       "      <td>Philadelphia</td>\n",
       "      <td>Pennsylvania</td>\n",
       "      <td>19140.0</td>\n",
       "      <td>FUR-FU-10000222</td>\n",
       "      <td>...</td>\n",
       "      <td>6</td>\n",
       "      <td>4</td>\n",
       "      <td>Seth Thomas 16\" Steel Case Clock</td>\n",
       "      <td>Furniture</td>\n",
       "      <td>Furnishings</td>\n",
       "      <td>East</td>\n",
       "      <td>2014</td>\n",
       "      <td>10</td>\n",
       "      <td>low</td>\n",
       "      <td>0-20</td>\n",
       "    </tr>\n",
       "  </tbody>\n",
       "</table>\n",
       "<p>3 rows × 24 columns</p>\n",
       "</div>"
      ],
      "text/plain": [
       "                  order_id   ship_date shipping_method customer_id  \\\n",
       "order_date                                                           \n",
       "2014-10-03  CA-2014-153976  2014-10-08    Second Class    BP-11290   \n",
       "2014-10-06  CA-2014-134677  2014-10-10  Standard Class    XP-21865   \n",
       "2014-10-07  CA-2014-117429  2014-10-13  Standard Class    MR-17545   \n",
       "\n",
       "                segment        country          city         state  zip_code  \\\n",
       "order_date                                                                     \n",
       "2014-10-03     Consumer  United States      Evanston      Illinois   60201.0   \n",
       "2014-10-06     Consumer  United States     San Diego    California   92024.0   \n",
       "2014-10-07  Home Office  United States  Philadelphia  Pennsylvania   19140.0   \n",
       "\n",
       "                 product id  ...  category_id  region_id  \\\n",
       "order_date                   ...                           \n",
       "2014-10-03  FUR-CH-10002880  ...            2          3   \n",
       "2014-10-06  TEC-AC-10001445  ...           12          2   \n",
       "2014-10-07  FUR-FU-10000222  ...            6          4   \n",
       "\n",
       "                                                 product name    category  \\\n",
       "order_date                                                                  \n",
       "2014-10-03          Global High-Back Leather Tilter, Burgundy   Furniture   \n",
       "2014-10-06  Imation USB 2.0 Swivel Flash Drive USB flash d...  Technology   \n",
       "2014-10-07                   Seth Thomas 16\" Steel Case Clock   Furniture   \n",
       "\n",
       "            sub_category  region_name  year month discount_bin discount_level  \n",
       "order_date                                                                     \n",
       "2014-10-03        Chairs      Central  2014    10         high           0-20  \n",
       "2014-10-06   Accessories         West  2014    10          low            NaN  \n",
       "2014-10-07   Furnishings         East  2014    10          low           0-20  \n",
       "\n",
       "[3 rows x 24 columns]"
      ]
     },
     "execution_count": 48,
     "metadata": {},
     "output_type": "execute_result"
    }
   ],
   "source": [
    "#only get the subset for every year's Q4. \n",
    "oct_nov_dec = df[(df['month'] == 11) | (df['month'] == 12)|(df['month'] == 10)]\n",
    "oct_nov_dec.head(3)"
   ]
  },
  {
   "cell_type": "code",
   "execution_count": 90,
   "id": "c0dc9411",
   "metadata": {},
   "outputs": [],
   "source": [
    "#create the pivot table\n",
    "oct_nov_dec = nov_dec.groupby('year', as_index=False).agg({'sales': sum,\n",
    "                                                         'profit': sum,})"
   ]
  },
  {
   "cell_type": "code",
   "execution_count": 91,
   "id": "2c281eba",
   "metadata": {},
   "outputs": [
    {
     "data": {
      "text/html": [
       "<div>\n",
       "<style scoped>\n",
       "    .dataframe tbody tr th:only-of-type {\n",
       "        vertical-align: middle;\n",
       "    }\n",
       "\n",
       "    .dataframe tbody tr th {\n",
       "        vertical-align: top;\n",
       "    }\n",
       "\n",
       "    .dataframe thead th {\n",
       "        text-align: right;\n",
       "    }\n",
       "</style>\n",
       "<table border=\"1\" class=\"dataframe\">\n",
       "  <thead>\n",
       "    <tr style=\"text-align: right;\">\n",
       "      <th></th>\n",
       "      <th>year</th>\n",
       "      <th>sales</th>\n",
       "      <th>profit</th>\n",
       "    </tr>\n",
       "  </thead>\n",
       "  <tbody>\n",
       "    <tr>\n",
       "      <th>0</th>\n",
       "      <td>2014</td>\n",
       "      <td>36294.9195</td>\n",
       "      <td>5237.9934</td>\n",
       "    </tr>\n",
       "    <tr>\n",
       "      <th>1</th>\n",
       "      <td>2015</td>\n",
       "      <td>30874.6652</td>\n",
       "      <td>1723.0218</td>\n",
       "    </tr>\n",
       "    <tr>\n",
       "      <th>2</th>\n",
       "      <td>2016</td>\n",
       "      <td>31531.1040</td>\n",
       "      <td>6097.0994</td>\n",
       "    </tr>\n",
       "    <tr>\n",
       "      <th>3</th>\n",
       "      <td>2017</td>\n",
       "      <td>46935.7698</td>\n",
       "      <td>112.6743</td>\n",
       "    </tr>\n",
       "  </tbody>\n",
       "</table>\n",
       "</div>"
      ],
      "text/plain": [
       "   year       sales     profit\n",
       "0  2014  36294.9195  5237.9934\n",
       "1  2015  30874.6652  1723.0218\n",
       "2  2016  31531.1040  6097.0994\n",
       "3  2017  46935.7698   112.6743"
      ]
     },
     "execution_count": 91,
     "metadata": {},
     "output_type": "execute_result"
    }
   ],
   "source": [
    "oct_nov_dec"
   ]
  },
  {
   "cell_type": "code",
   "execution_count": 92,
   "id": "10e21ae9",
   "metadata": {},
   "outputs": [
    {
     "data": {
      "text/html": [
       "<div>\n",
       "<style scoped>\n",
       "    .dataframe tbody tr th:only-of-type {\n",
       "        vertical-align: middle;\n",
       "    }\n",
       "\n",
       "    .dataframe tbody tr th {\n",
       "        vertical-align: top;\n",
       "    }\n",
       "\n",
       "    .dataframe thead th {\n",
       "        text-align: right;\n",
       "    }\n",
       "</style>\n",
       "<table border=\"1\" class=\"dataframe\">\n",
       "  <thead>\n",
       "    <tr style=\"text-align: right;\">\n",
       "      <th></th>\n",
       "      <th>year</th>\n",
       "      <th>sales</th>\n",
       "      <th>profit</th>\n",
       "    </tr>\n",
       "  </thead>\n",
       "  <tbody>\n",
       "    <tr>\n",
       "      <th>0</th>\n",
       "      <td>NaN</td>\n",
       "      <td>NaN</td>\n",
       "      <td>NaN</td>\n",
       "    </tr>\n",
       "    <tr>\n",
       "      <th>1</th>\n",
       "      <td>0.000497</td>\n",
       "      <td>-0.149339</td>\n",
       "      <td>-0.671053</td>\n",
       "    </tr>\n",
       "    <tr>\n",
       "      <th>2</th>\n",
       "      <td>0.000496</td>\n",
       "      <td>0.021261</td>\n",
       "      <td>2.538608</td>\n",
       "    </tr>\n",
       "    <tr>\n",
       "      <th>3</th>\n",
       "      <td>0.000496</td>\n",
       "      <td>0.488555</td>\n",
       "      <td>-0.981520</td>\n",
       "    </tr>\n",
       "  </tbody>\n",
       "</table>\n",
       "</div>"
      ],
      "text/plain": [
       "       year     sales    profit\n",
       "0       NaN       NaN       NaN\n",
       "1  0.000497 -0.149339 -0.671053\n",
       "2  0.000496  0.021261  2.538608\n",
       "3  0.000496  0.488555 -0.981520"
      ]
     },
     "execution_count": 92,
     "metadata": {},
     "output_type": "execute_result"
    }
   ],
   "source": [
    "oct_nov_dec.pct_change()"
   ]
  },
  {
   "cell_type": "markdown",
   "id": "f5d98266",
   "metadata": {},
   "source": [
    "***Takeaways: Sales in Q4 keep increasing for two years.Compare to 2016, 2017's sales increased 48%***"
   ]
  },
  {
   "cell_type": "markdown",
   "id": "9f7e12e4",
   "metadata": {},
   "source": [
    "## What's the discount distribution and where are those discount being applied? "
   ]
  },
  {
   "cell_type": "code",
   "execution_count": 9,
   "id": "6ee5ad4c",
   "metadata": {},
   "outputs": [
    {
     "data": {
      "text/plain": [
       "Text(0, 0.5, 'Discount Counts')"
      ]
     },
     "execution_count": 9,
     "metadata": {},
     "output_type": "execute_result"
    },
    {
     "data": {
      "image/png": "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\n",
      "text/plain": [
       "<Figure size 432x288 with 1 Axes>"
      ]
     },
     "metadata": {
      "needs_background": "light"
     },
     "output_type": "display_data"
    }
   ],
   "source": [
    "df['discount_bin'] = pd.qcut(df.discount, 2, labels=['low', 'high'])\n",
    "df.groupby('discount_bin').resample('m').quantity.sum().unstack(0).plot()\n",
    "plt.legend(loc=\"upper left\", bbox_to_anchor=(1, 1))\n",
    "plt.title('Distribution of High and Low Discount')\n",
    "plt.ylabel('Discount Counts')"
   ]
  },
  {
   "cell_type": "markdown",
   "id": "8f190386",
   "metadata": {},
   "source": [
    "***Takeaways: The majority of discount are low discount means between 0 to 0.5***"
   ]
  },
  {
   "cell_type": "code",
   "execution_count": 8,
   "id": "6e2382ba",
   "metadata": {},
   "outputs": [
    {
     "data": {
      "text/plain": [
       "Text(0, 0.5, 'Discount')"
      ]
     },
     "execution_count": 8,
     "metadata": {},
     "output_type": "execute_result"
    },
    {
     "data": {
      "image/png": "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\n",
      "text/plain": [
       "<Figure size 432x288 with 1 Axes>"
      ]
     },
     "metadata": {
      "needs_background": "light"
     },
     "output_type": "display_data"
    }
   ],
   "source": [
    "the_list.groupby('sub_category').resample('m').discount.sum().unstack(0).plot()\n",
    "plt.legend(loc=\"upper left\", bbox_to_anchor=(1, 1))\n",
    "plt.title('Distribution Across Top Profit Sub-Categories')\n",
    "plt.ylabel('Discount')"
   ]
  },
  {
   "cell_type": "markdown",
   "id": "2ca756d8",
   "metadata": {},
   "source": [
    "***Takeaways, among all top profit product, binders has highest discount overall***"
   ]
  },
  {
   "cell_type": "markdown",
   "id": "140d2f66",
   "metadata": {},
   "source": [
    "# Conclusion "
   ]
  },
  {
   "cell_type": "markdown",
   "id": "0f06fc29",
   "metadata": {},
   "source": [
    "# Key Findings From Exploration"
   ]
  },
  {
   "cell_type": "markdown",
   "id": "a1633b71",
   "metadata": {},
   "source": [
    "\n",
    "* Majority of profit comes from Office Supplies, Technology \n",
    "* Office Supply sell 4-to-1 compared to Technology, with Tech being 3x as profitable on avg.\n",
    "* Office Supplies had a steady growth over the past 4 years while our Tech has barely grown\n",
    "* Technology sales need to be better regulated, as large discounts applied to Machine Sales have dramatically impacted our overall profit more than once.\n"
   ]
  },
  {
   "cell_type": "markdown",
   "id": "d99d1b3f",
   "metadata": {},
   "source": [
    "# Recommendation"
   ]
  },
  {
   "cell_type": "markdown",
   "id": "29277ce7",
   "metadata": {},
   "source": [
    "* If our Technology Sales increased at even 50% the rate of our Office Supply Sales our profits would undoubtedly increase. \n",
    "* A Marketing Push on Superstore Technology should help increase revenue. \n",
    "* Limit the discounts available for Technology to no more than 20%. "
   ]
  },
  {
   "cell_type": "markdown",
   "id": "c1a15d0e",
   "metadata": {},
   "source": [
    "# Next Step"
   ]
  },
  {
   "cell_type": "markdown",
   "id": "9d25c58d",
   "metadata": {},
   "source": [
    "* Continue observations of Technology and push the growth of Tech Sales\n",
    "* There is potential to continue exploring the data to find what Technologies are more marketable to larger corporate offices\n",
    "* Explore the reason behind high discount machines, maybe encountered a strong competitor, and needs to be analyzed in combination with the actual business and appropriately improve the business strategy.\n"
   ]
  },
  {
   "cell_type": "code",
   "execution_count": null,
   "id": "c1df8108",
   "metadata": {},
   "outputs": [],
   "source": []
  }
 ],
 "metadata": {
  "kernelspec": {
   "display_name": "Python 3 (ipykernel)",
   "language": "python",
   "name": "python3"
  },
  "language_info": {
   "codemirror_mode": {
    "name": "ipython",
    "version": 3
   },
   "file_extension": ".py",
   "mimetype": "text/x-python",
   "name": "python",
   "nbconvert_exporter": "python",
   "pygments_lexer": "ipython3",
   "version": "3.9.7"
  }
 },
 "nbformat": 4,
 "nbformat_minor": 5
}
